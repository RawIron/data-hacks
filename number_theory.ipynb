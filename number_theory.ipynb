{
 "cells": [
  {
   "cell_type": "code",
   "execution_count": 117,
   "metadata": {
    "collapsed": false
   },
   "outputs": [],
   "source": [
    "def sum_of_digits(number):\n",
    "    acc = 0\n",
    "    while number > 0:\n",
    "        acc += number % 10\n",
    "        number /= 10\n",
    "    return acc\n",
    "\n",
    "def product_of_digits(number):\n",
    "    acc = 1\n",
    "    while number > 0:\n",
    "        acc *= number % 10\n",
    "        number /= 10\n",
    "    return acc"
   ]
  },
  {
   "cell_type": "markdown",
   "metadata": {},
   "source": [
    "### numbers which are a multiple of their sum-of-digits"
   ]
  },
  {
   "cell_type": "markdown",
   "metadata": {},
   "source": [
    "do numbers exists that equal\n",
    "* their sum of digits\n",
    "* their product of digits\n",
    "* the total of their sum of digits times product of digits"
   ]
  },
  {
   "cell_type": "code",
   "execution_count": 118,
   "metadata": {
    "collapsed": true
   },
   "outputs": [],
   "source": [
    "equals_sum_times_product = lambda x: (x == sum_of_digits(x) * product_of_digits(x))\n",
    "equals_sum_of_digits = lambda x: (x == sum_of_digits(x))\n",
    "equals_product_of_digits = lambda x: (x == product_of_digits(x))\n",
    "\n",
    "\n",
    "def exist_numbers_smaller(upper_bound, cond):\n",
    "    result = []\n",
    "    for n in xrange(1, upper_bound):\n",
    "        if cond(n):\n",
    "            result.append(n)\n",
    "    return result"
   ]
  },
  {
   "cell_type": "code",
   "execution_count": 119,
   "metadata": {
    "collapsed": false
   },
   "outputs": [
    {
     "data": {
      "text/plain": [
       "[1, 135, 144]"
      ]
     },
     "execution_count": 119,
     "metadata": {},
     "output_type": "execute_result"
    }
   ],
   "source": [
    "exist_numbers_smaller(999, equals_sum_times_product)"
   ]
  },
  {
   "cell_type": "code",
   "execution_count": 120,
   "metadata": {
    "collapsed": false
   },
   "outputs": [
    {
     "data": {
      "text/plain": [
       "[1, 2, 3, 4, 5, 6, 7, 8, 9]"
      ]
     },
     "execution_count": 120,
     "metadata": {},
     "output_type": "execute_result"
    }
   ],
   "source": [
    "exist_numbers_smaller(999, equals_sum_of_digits)"
   ]
  },
  {
   "cell_type": "code",
   "execution_count": 121,
   "metadata": {
    "collapsed": false
   },
   "outputs": [
    {
     "data": {
      "text/plain": [
       "[1, 2, 3, 4, 5, 6, 7, 8, 9]"
      ]
     },
     "execution_count": 121,
     "metadata": {},
     "output_type": "execute_result"
    }
   ],
   "source": [
    "exist_numbers_smaller(999, equals_product_of_digits)"
   ]
  },
  {
   "cell_type": "markdown",
   "metadata": {},
   "source": [
    "### the distribution of sum-of-digits"
   ]
  },
  {
   "cell_type": "code",
   "execution_count": 122,
   "metadata": {
    "collapsed": false
   },
   "outputs": [
    {
     "name": "stdout",
     "output_type": "stream",
     "text": [
      "Populating the interactive namespace from numpy and matplotlib\n"
     ]
    }
   ],
   "source": [
    "%pylab inline"
   ]
  },
  {
   "cell_type": "code",
   "execution_count": 123,
   "metadata": {
    "collapsed": false
   },
   "outputs": [],
   "source": [
    "def all_sum_of_digits_smaller(upper_bound):\n",
    "    result = [sum_of_digits(n) for n in xrange(1, upper_bound)]\n",
    "    return list(set(result)), result"
   ]
  },
  {
   "cell_type": "code",
   "execution_count": 124,
   "metadata": {
    "collapsed": true
   },
   "outputs": [],
   "source": [
    "distinct, data = all_sum_of_digits_smaller(99999)"
   ]
  },
  {
   "cell_type": "code",
   "execution_count": 125,
   "metadata": {
    "collapsed": false
   },
   "outputs": [
    {
     "data": {
      "image/png": "[encoded data removed]",
      "text/plain": [
       "<matplotlib.figure.Figure at 0x7fc52e3cd890>"
      ]
     },
     "metadata": {},
     "output_type": "display_data"
    }
   ],
   "source": [
    "plt.grid(True)\n",
    "n, bins, patches = plt.hist(data, max(distinct), normed=1, facecolor='g', alpha=.5)\n",
    "\n",
    "plt.show()"
   ]
  }
 ],
 "metadata": {
  "kernelspec": {
   "display_name": "Python 2",
   "language": "python",
   "name": "python2"
  },
  "language_info": {
   "codemirror_mode": {
    "name": "ipython",
    "version": 2
   },
   "file_extension": ".py",
   "mimetype": "text/x-python",
   "name": "python",
   "nbconvert_exporter": "python",
   "pygments_lexer": "ipython2",
   "version": "2.7.12+"
  }
 },
 "nbformat": 4,
 "nbformat_minor": 0
}
