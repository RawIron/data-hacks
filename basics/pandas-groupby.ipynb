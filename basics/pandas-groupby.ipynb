{
 "cells": [
  {
   "cell_type": "code",
   "execution_count": 49,
   "metadata": {
    "collapsed": false
   },
   "outputs": [
    {
     "name": "stdout",
     "output_type": "stream",
     "text": [
      "1.9.2\n",
      "0.16.1\n"
     ]
    }
   ],
   "source": [
    "import numpy as np\n",
    "import pandas as pd\n",
    "\n",
    "print np.__version__\n",
    "print pd.__version__"
   ]
  },
  {
   "cell_type": "code",
   "execution_count": 50,
   "metadata": {
    "collapsed": true
   },
   "outputs": [],
   "source": [
    " pd.set_option('display.notebook_repr_html',False)"
   ]
  },
  {
   "cell_type": "markdown",
   "metadata": {},
   "source": [
    "## group by"
   ]
  },
  {
   "cell_type": "markdown",
   "metadata": {},
   "source": [
    "### aggregated data\n",
    "* events are added per (member, org)"
   ]
  },
  {
   "cell_type": "code",
   "execution_count": 51,
   "metadata": {
    "collapsed": false
   },
   "outputs": [
    {
     "data": {
      "text/plain": [
       "  event  hits  member_id  org_id  score\n",
       "0    up     4          1       1      5\n",
       "1    up     3          3       2      6\n",
       "2    up     1          3       2      6\n",
       "3    up     2          4       1      4\n",
       "4  down     2          5       1      6\n",
       "5  down     8          1       1      2\n",
       "6  down     1          1       2      7"
      ]
     },
     "execution_count": 51,
     "metadata": {},
     "output_type": "execute_result"
    }
   ],
   "source": [
    "data = {'member_id': [1,3,3,4,5,1,1],\n",
    "        'org_id': [1,2,2,1,1,1,2],\n",
    "        'event': ['up']*4 + ['down']*3,\n",
    "        'score': [5,6,6,4,6,2,7],\n",
    "        'hits': [4,3,1,2,2,8,1]}\n",
    "\n",
    "df = pd.DataFrame(data)\n",
    "df"
   ]
  },
  {
   "cell_type": "code",
   "execution_count": 52,
   "metadata": {
    "collapsed": false
   },
   "outputs": [
    {
     "data": {
      "text/plain": [
       "<pandas.core.groupby.DataFrameGroupBy object at 0x113032f50>"
      ]
     },
     "execution_count": 52,
     "metadata": {},
     "output_type": "execute_result"
    }
   ],
   "source": [
    "grouped = df.groupby(['member_id', 'org_id'])\n",
    "grouped"
   ]
  },
  {
   "cell_type": "code",
   "execution_count": 53,
   "metadata": {
    "collapsed": false
   },
   "outputs": [
    {
     "data": {
      "text/plain": [
       "{(1, 1): 2, (1, 2): 1, (3, 2): 2, (4, 1): 1, (5, 1): 1}"
      ]
     },
     "execution_count": 53,
     "metadata": {},
     "output_type": "execute_result"
    }
   ],
   "source": [
    "g = df.groupby(['member_id', 'org_id'])\n",
    "g.size().to_dict()"
   ]
  },
  {
   "cell_type": "code",
   "execution_count": 54,
   "metadata": {
    "collapsed": false
   },
   "outputs": [
    {
     "data": {
      "text/plain": [
       "  event  hits  member_id  org_id  score\n",
       "0    up     4          1       1      5\n",
       "5  down     8          1       1      2"
      ]
     },
     "execution_count": 54,
     "metadata": {},
     "output_type": "execute_result"
    }
   ],
   "source": [
    "grouped.get_group((1, 1))"
   ]
  },
  {
   "cell_type": "markdown",
   "metadata": {},
   "source": [
    "keep events with highest score in (member, org) group"
   ]
  },
  {
   "cell_type": "code",
   "execution_count": 55,
   "metadata": {
    "collapsed": false
   },
   "outputs": [
    {
     "data": {
      "text/plain": [
       "  event  hits  score\n",
       "0    up     8      5\n",
       "1    up     3      6\n",
       "2    up     3      6\n",
       "3    up     2      4\n",
       "4  down     2      6\n",
       "5    up     8      5\n",
       "6  down     1      7"
      ]
     },
     "execution_count": 55,
     "metadata": {},
     "output_type": "execute_result"
    }
   ],
   "source": [
    "grouped.transform(max)"
   ]
  },
  {
   "cell_type": "code",
   "execution_count": 56,
   "metadata": {
    "collapsed": false
   },
   "outputs": [
    {
     "data": {
      "text/plain": [
       "  event  hits  member_id  org_id  score\n",
       "0    up     4          1       1      5\n",
       "1    up     3          3       2      6\n",
       "2    up     1          3       2      6\n",
       "3    up     2          4       1      4\n",
       "4  down     2          5       1      6\n",
       "6  down     1          1       2      7"
      ]
     },
     "execution_count": 56,
     "metadata": {},
     "output_type": "execute_result"
    }
   ],
   "source": [
    "df[df['score'] == grouped.transform(max)['score']]"
   ]
  },
  {
   "cell_type": "markdown",
   "metadata": {},
   "source": [
    "in case a solution is required that always picks exactly one\n",
    "introduce a tie-breaker"
   ]
  },
  {
   "cell_type": "code",
   "execution_count": 57,
   "metadata": {
    "collapsed": false
   },
   "outputs": [
    {
     "data": {
      "text/plain": [
       "array([1, 4, 2, 3])"
      ]
     },
     "execution_count": 57,
     "metadata": {},
     "output_type": "execute_result"
    }
   ],
   "source": [
    "the_rule = np.array([1,3,2,3])\n",
    "the_rule[the_rule.argmax()] += 1\n",
    "the_rule"
   ]
  },
  {
   "cell_type": "code",
   "execution_count": 58,
   "metadata": {
    "collapsed": false
   },
   "outputs": [
    {
     "data": {
      "text/plain": [
       "0    5\n",
       "1    5\n",
       "2    6\n",
       "3    4\n",
       "4    6\n",
       "5    5\n",
       "6    7\n",
       "Name: score, dtype: int64"
      ]
     },
     "execution_count": 58,
     "metadata": {},
     "output_type": "execute_result"
    }
   ],
   "source": [
    "def majority_rule(x):\n",
    "    if len(x[x == x.max()]) == 1:\n",
    "        # max is unique\n",
    "        return x.max()\n",
    "    else:\n",
    "        # tie-break\n",
    "        x.ix[x.argmax()] -= 1\n",
    "        return x\n",
    "\n",
    "grouped['score'].transform(majority_rule)"
   ]
  },
  {
   "cell_type": "markdown",
   "metadata": {},
   "source": [
    "### TimeGrouper"
   ]
  },
  {
   "cell_type": "markdown",
   "metadata": {},
   "source": [
    "raw data comes from an event stream\n",
    "one row records a single event occured at a certain time"
   ]
  },
  {
   "cell_type": "code",
   "execution_count": 59,
   "metadata": {
    "collapsed": false
   },
   "outputs": [
    {
     "data": {
      "text/plain": [
       "                          event  member_id\n",
       "timestamp                                 \n",
       "2015-07-01 09:00:00        down          1\n",
       "2015-07-01 09:00:29          up          1\n",
       "2015-07-01 09:00:07          up          1\n",
       "2015-07-01 09:01:32        down          1\n",
       "2015-07-01 09:00:13          up          2\n",
       "2015-07-01 09:00:23  enterprise          2"
      ]
     },
     "execution_count": 59,
     "metadata": {},
     "output_type": "execute_result"
    }
   ],
   "source": [
    "from datetime import datetime\n",
    "\n",
    "data = {'timestamp': [datetime(2015, 7, 1, 9, 0, 0), datetime(2015, 7, 1, 9, 0, 29), datetime(2015, 7, 1, 9, 0, 7),\n",
    "                      datetime(2015, 7, 1, 9, 1, 32),\n",
    "                      datetime(2015, 7, 1, 9, 0, 13), datetime(2015, 7, 1, 9, 0, 23)],\n",
    "        'member_id': [1, 1, 1, 1, 2, 2],\n",
    "        'event': ['down', 'up', 'up', 'down', 'up', 'enterprise']}\n",
    "\n",
    "df = pd.DataFrame(data)\n",
    "df = df.set_index('timestamp')\n",
    "df"
   ]
  },
  {
   "cell_type": "markdown",
   "metadata": {},
   "source": [
    "put all events of a member that occured within the same minute into a separate group"
   ]
  },
  {
   "cell_type": "code",
   "execution_count": 60,
   "metadata": {
    "collapsed": false
   },
   "outputs": [
    {
     "name": "stdout",
     "output_type": "stream",
     "text": [
      "timestamp\n",
      "2015-07-01 09:00:00    down\n",
      "2015-07-01 09:00:29      up\n",
      "2015-07-01 09:00:07      up\n",
      "Name: event, dtype: object\n",
      "timestamp\n",
      "2015-07-01 09:01:32    down\n",
      "Name: event, dtype: object\n",
      "timestamp\n",
      "2015-07-01 09:00:13            up\n",
      "2015-07-01 09:00:23    enterprise\n",
      "Name: event, dtype: object\n"
     ]
    }
   ],
   "source": [
    "from pandas.tseries.offsets import Minute\n",
    "\n",
    "tg = df.groupby([df.member_id, pd.TimeGrouper(Minute(1))])\n",
    "for g, gf in tg:\n",
    "    print gf.event"
   ]
  },
  {
   "cell_type": "markdown",
   "metadata": {},
   "source": [
    "count the events within a minute"
   ]
  },
  {
   "cell_type": "code",
   "execution_count": 61,
   "metadata": {
    "collapsed": false
   },
   "outputs": [
    {
     "data": {
      "text/plain": [
       "member_id  timestamp                      \n",
       "1          2015-07-01 09:00:00  up            2\n",
       "                                down          1\n",
       "           2015-07-01 09:01:00  down          1\n",
       "2          2015-07-01 09:00:00  enterprise    1\n",
       "                                up            1\n",
       "dtype: int64"
      ]
     },
     "execution_count": 61,
     "metadata": {},
     "output_type": "execute_result"
    }
   ],
   "source": [
    "tg_events = tg['event'].value_counts()\n",
    "tg_events"
   ]
  },
  {
   "cell_type": "markdown",
   "metadata": {},
   "source": [
    "### unstack, reset_index"
   ]
  },
  {
   "cell_type": "markdown",
   "metadata": {},
   "source": [
    "groupby returns a MultiIndex"
   ]
  },
  {
   "cell_type": "code",
   "execution_count": 62,
   "metadata": {
    "collapsed": false
   },
   "outputs": [
    {
     "data": {
      "text/plain": [
       "MultiIndex(levels=[[1, 2], [2015-07-01 09:00:00, 2015-07-01 09:01:00], [u'down', u'enterprise', u'up']],\n",
       "           labels=[[0, 0, 0, 1, 1], [0, 0, 1, 0, 0], [2, 0, 0, 1, 2]],\n",
       "           names=[u'member_id', u'timestamp', None])"
      ]
     },
     "execution_count": 62,
     "metadata": {},
     "output_type": "execute_result"
    }
   ],
   "source": [
    "tg_events.index"
   ]
  },
  {
   "cell_type": "markdown",
   "metadata": {},
   "source": [
    "unstack \"deepest\" level"
   ]
  },
  {
   "cell_type": "code",
   "execution_count": 63,
   "metadata": {
    "collapsed": false
   },
   "outputs": [
    {
     "data": {
      "text/plain": [
       "                               down  enterprise  up\n",
       "member_id timestamp                                \n",
       "1         2015-07-01 09:00:00     1           0   2\n",
       "          2015-07-01 09:01:00     1           0   0\n",
       "2         2015-07-01 09:00:00     0           1   1"
      ]
     },
     "execution_count": 63,
     "metadata": {},
     "output_type": "execute_result"
    }
   ],
   "source": [
    "tg_unstacked = tg_events.unstack().fillna(0)\n",
    "tg_unstacked"
   ]
  },
  {
   "cell_type": "markdown",
   "metadata": {},
   "source": [
    "unstack one more level"
   ]
  },
  {
   "cell_type": "code",
   "execution_count": 64,
   "metadata": {
    "collapsed": false
   },
   "outputs": [
    {
     "data": {
      "text/plain": [
       "                         down                              enterprise  \\\n",
       "timestamp 2015-07-01 09:00:00 2015-07-01 09:01:00 2015-07-01 09:00:00   \n",
       "member_id                                                               \n",
       "1                           1                   1                   0   \n",
       "2                           0                   0                   1   \n",
       "\n",
       "                                               up                      \n",
       "timestamp 2015-07-01 09:01:00 2015-07-01 09:00:00 2015-07-01 09:01:00  \n",
       "member_id                                                              \n",
       "1                           0                   2                   0  \n",
       "2                           0                   1                   0  "
      ]
     },
     "execution_count": 64,
     "metadata": {},
     "output_type": "execute_result"
    }
   ],
   "source": [
    "tg_unstacked.unstack().fillna(0)"
   ]
  },
  {
   "cell_type": "markdown",
   "metadata": {},
   "source": [
    "\"flatten\" the MultiIndex to get (member, minute) counts of each event"
   ]
  },
  {
   "cell_type": "code",
   "execution_count": 65,
   "metadata": {
    "collapsed": false
   },
   "outputs": [
    {
     "data": {
      "text/plain": [
       "   member_id           timestamp  down  enterprise  up\n",
       "0          1 2015-07-01 09:00:00     1           0   2\n",
       "1          1 2015-07-01 09:01:00     1           0   0\n",
       "2          2 2015-07-01 09:00:00     0           1   1"
      ]
     },
     "execution_count": 65,
     "metadata": {},
     "output_type": "execute_result"
    }
   ],
   "source": [
    "tg_unstacked.reset_index()"
   ]
  },
  {
   "cell_type": "markdown",
   "metadata": {},
   "source": [
    "* dataframe with the unique member_id\n",
    "* DataFrameGroupBy convert to DataFrame\n",
    "```\n",
    "SELECT member_id\n",
    "FROM multi_key\n",
    "GROUP BY member_id\n",
    "```"
   ]
  },
  {
   "cell_type": "code",
   "execution_count": 66,
   "metadata": {
    "collapsed": false
   },
   "outputs": [
    {
     "data": {
      "text/plain": [
       "pandas.core.frame.DataFrame"
      ]
     },
     "execution_count": 66,
     "metadata": {},
     "output_type": "execute_result"
    }
   ],
   "source": [
    "multi_key = pd.DataFrame({'member_id': [4, 5, 4, 5],\n",
    "                          'organization_id': [3,3,4,3]})\n",
    "\n",
    "counted = multi_key.groupby(['member_id', 'organization_id']).count()\n",
    "type(counted)"
   ]
  },
  {
   "cell_type": "markdown",
   "metadata": {},
   "source": [
    "it is a multi-index so this is not going to work:"
   ]
  },
  {
   "cell_type": "code",
   "execution_count": 67,
   "metadata": {
    "collapsed": false
   },
   "outputs": [
    {
     "name": "stdout",
     "output_type": "stream",
     "text": [
      "Nice try.\n"
     ]
    }
   ],
   "source": [
    "try:\n",
    "    counted[['member_id', 'organization_id']]\n",
    "except:\n",
    "    print 'Nice try.'"
   ]
  }
 ],
 "metadata": {
  "kernelspec": {
   "display_name": "Python 2",
   "language": "python",
   "name": "python2"
  },
  "language_info": {
   "codemirror_mode": {
    "name": "ipython",
    "version": 2
   },
   "file_extension": ".py",
   "mimetype": "text/x-python",
   "name": "python",
   "nbconvert_exporter": "python",
   "pygments_lexer": "ipython2",
   "version": "2.7.10"
  }
 },
 "nbformat": 4,
 "nbformat_minor": 0
}
