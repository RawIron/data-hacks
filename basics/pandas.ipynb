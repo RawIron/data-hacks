{
 "cells": [
  {
   "cell_type": "code",
   "execution_count": 62,
   "metadata": {
    "collapsed": true
   },
   "outputs": [],
   "source": [
    "import pandas as pd\n",
    "import numpy as np"
   ]
  },
  {
   "cell_type": "markdown",
   "metadata": {},
   "source": [
    "* composite key\n",
    "* different events and their counts as a score"
   ]
  },
  {
   "cell_type": "code",
   "execution_count": 63,
   "metadata": {
    "collapsed": true
   },
   "outputs": [],
   "source": [
    "data = {'organization_id': [1, 1, 0, 2, 3, 3, 4, 0, 4, 4],\n",
    "        'customer_id': [1, 1, 1, 2, 3, 3, 4, 4, 4, 4],\n",
    "        'summary_day': ['2015-04-20'] * 10,\n",
    "        'event': ['add_t', 'add_t', 'drop_f', 'drop_f', 'drop_t', 'add_f', 'add_f', 'add_t', 'add_t', 'drop_t'],\n",
    "        'score': [1] * 10,}"
   ]
  },
  {
   "cell_type": "markdown",
   "metadata": {},
   "source": [
    "## groupby"
   ]
  },
  {
   "cell_type": "code",
   "execution_count": 64,
   "metadata": {
    "collapsed": true
   },
   "outputs": [],
   "source": [
    "class grp():\n",
    "    df = None"
   ]
  },
  {
   "cell_type": "code",
   "execution_count": 65,
   "metadata": {
    "collapsed": false
   },
   "outputs": [
    {
     "data": {
      "text/html": [
       "<div style=\"max-height:1000px;max-width:1500px;overflow:auto;\">\n",
       "<table border=\"1\" class=\"dataframe\">\n",
       "  <thead>\n",
       "    <tr style=\"text-align: right;\">\n",
       "      <th></th>\n",
       "      <th></th>\n",
       "      <th></th>\n",
       "      <th></th>\n",
       "      <th>score</th>\n",
       "    </tr>\n",
       "    <tr>\n",
       "      <th>summary_day</th>\n",
       "      <th>customer_id</th>\n",
       "      <th>organization_id</th>\n",
       "      <th>event</th>\n",
       "      <th></th>\n",
       "    </tr>\n",
       "  </thead>\n",
       "  <tbody>\n",
       "    <tr>\n",
       "      <th rowspan=\"9\" valign=\"top\">2015-04-20</th>\n",
       "      <th rowspan=\"2\" valign=\"top\">1</th>\n",
       "      <th>0</th>\n",
       "      <th>drop_f</th>\n",
       "      <td>1</td>\n",
       "    </tr>\n",
       "    <tr>\n",
       "      <th>1</th>\n",
       "      <th>add_t</th>\n",
       "      <td>2</td>\n",
       "    </tr>\n",
       "    <tr>\n",
       "      <th>2</th>\n",
       "      <th>2</th>\n",
       "      <th>drop_f</th>\n",
       "      <td>1</td>\n",
       "    </tr>\n",
       "    <tr>\n",
       "      <th rowspan=\"2\" valign=\"top\">3</th>\n",
       "      <th rowspan=\"2\" valign=\"top\">3</th>\n",
       "      <th>add_f</th>\n",
       "      <td>1</td>\n",
       "    </tr>\n",
       "    <tr>\n",
       "      <th>drop_t</th>\n",
       "      <td>1</td>\n",
       "    </tr>\n",
       "    <tr>\n",
       "      <th rowspan=\"4\" valign=\"top\">4</th>\n",
       "      <th>0</th>\n",
       "      <th>add_t</th>\n",
       "      <td>1</td>\n",
       "    </tr>\n",
       "    <tr>\n",
       "      <th rowspan=\"3\" valign=\"top\">4</th>\n",
       "      <th>add_f</th>\n",
       "      <td>1</td>\n",
       "    </tr>\n",
       "    <tr>\n",
       "      <th>add_t</th>\n",
       "      <td>1</td>\n",
       "    </tr>\n",
       "    <tr>\n",
       "      <th>drop_t</th>\n",
       "      <td>1</td>\n",
       "    </tr>\n",
       "  </tbody>\n",
       "</table>\n",
       "</div>"
      ],
      "text/plain": [
       "                                                score\n",
       "summary_day customer_id organization_id event        \n",
       "2015-04-20  1           0               drop_f      1\n",
       "                        1               add_t       2\n",
       "            2           2               drop_f      1\n",
       "            3           3               add_f       1\n",
       "                                        drop_t      1\n",
       "            4           0               add_t       1\n",
       "                        4               add_f       1\n",
       "                                        add_t       1\n",
       "                                        drop_t      1"
      ]
     },
     "execution_count": 65,
     "metadata": {},
     "output_type": "execute_result"
    }
   ],
   "source": [
    "grp.df = pd.DataFrame(data)\n",
    "\n",
    "groups = grp.df.groupby(['summary_day', 'customer_id', 'organization_id', 'event'])\n",
    "r = groups.aggregate(np.sum)\n",
    "r"
   ]
  },
  {
   "cell_type": "code",
   "execution_count": 66,
   "metadata": {
    "collapsed": false
   },
   "outputs": [
    {
     "data": {
      "text/html": [
       "<div style=\"max-height:1000px;max-width:1500px;overflow:auto;\">\n",
       "<table border=\"1\" class=\"dataframe\">\n",
       "  <thead>\n",
       "    <tr style=\"text-align: right;\">\n",
       "      <th></th>\n",
       "      <th>summary_day</th>\n",
       "      <th>customer_id</th>\n",
       "      <th>organization_id</th>\n",
       "      <th>event</th>\n",
       "      <th>score</th>\n",
       "    </tr>\n",
       "  </thead>\n",
       "  <tbody>\n",
       "    <tr>\n",
       "      <th>0</th>\n",
       "      <td>2015-04-20</td>\n",
       "      <td>1</td>\n",
       "      <td>0</td>\n",
       "      <td>drop_f</td>\n",
       "      <td>1</td>\n",
       "    </tr>\n",
       "    <tr>\n",
       "      <th>1</th>\n",
       "      <td>2015-04-20</td>\n",
       "      <td>1</td>\n",
       "      <td>1</td>\n",
       "      <td>add_t</td>\n",
       "      <td>2</td>\n",
       "    </tr>\n",
       "    <tr>\n",
       "      <th>2</th>\n",
       "      <td>2015-04-20</td>\n",
       "      <td>2</td>\n",
       "      <td>2</td>\n",
       "      <td>drop_f</td>\n",
       "      <td>1</td>\n",
       "    </tr>\n",
       "    <tr>\n",
       "      <th>3</th>\n",
       "      <td>2015-04-20</td>\n",
       "      <td>3</td>\n",
       "      <td>3</td>\n",
       "      <td>add_f</td>\n",
       "      <td>1</td>\n",
       "    </tr>\n",
       "    <tr>\n",
       "      <th>4</th>\n",
       "      <td>2015-04-20</td>\n",
       "      <td>3</td>\n",
       "      <td>3</td>\n",
       "      <td>drop_t</td>\n",
       "      <td>1</td>\n",
       "    </tr>\n",
       "    <tr>\n",
       "      <th>5</th>\n",
       "      <td>2015-04-20</td>\n",
       "      <td>4</td>\n",
       "      <td>0</td>\n",
       "      <td>add_t</td>\n",
       "      <td>1</td>\n",
       "    </tr>\n",
       "    <tr>\n",
       "      <th>6</th>\n",
       "      <td>2015-04-20</td>\n",
       "      <td>4</td>\n",
       "      <td>4</td>\n",
       "      <td>add_f</td>\n",
       "      <td>1</td>\n",
       "    </tr>\n",
       "    <tr>\n",
       "      <th>7</th>\n",
       "      <td>2015-04-20</td>\n",
       "      <td>4</td>\n",
       "      <td>4</td>\n",
       "      <td>add_t</td>\n",
       "      <td>1</td>\n",
       "    </tr>\n",
       "    <tr>\n",
       "      <th>8</th>\n",
       "      <td>2015-04-20</td>\n",
       "      <td>4</td>\n",
       "      <td>4</td>\n",
       "      <td>drop_t</td>\n",
       "      <td>1</td>\n",
       "    </tr>\n",
       "  </tbody>\n",
       "</table>\n",
       "</div>"
      ],
      "text/plain": [
       "  summary_day  customer_id  organization_id   event  score\n",
       "0  2015-04-20            1                0  drop_f      1\n",
       "1  2015-04-20            1                1   add_t      2\n",
       "2  2015-04-20            2                2  drop_f      1\n",
       "3  2015-04-20            3                3   add_f      1\n",
       "4  2015-04-20            3                3  drop_t      1\n",
       "5  2015-04-20            4                0   add_t      1\n",
       "6  2015-04-20            4                4   add_f      1\n",
       "7  2015-04-20            4                4   add_t      1\n",
       "8  2015-04-20            4                4  drop_t      1"
      ]
     },
     "execution_count": 66,
     "metadata": {},
     "output_type": "execute_result"
    }
   ],
   "source": [
    "r.reset_index(inplace=True)\n",
    "r"
   ]
  },
  {
   "cell_type": "markdown",
   "metadata": {},
   "source": [
    "## pivot"
   ]
  },
  {
   "cell_type": "code",
   "execution_count": 67,
   "metadata": {
    "collapsed": false
   },
   "outputs": [],
   "source": [
    "df = pd.DataFrame(data)"
   ]
  },
  {
   "cell_type": "markdown",
   "metadata": {},
   "source": [
    "### combine composite key into tuple"
   ]
  },
  {
   "cell_type": "code",
   "execution_count": 68,
   "metadata": {
    "collapsed": false
   },
   "outputs": [
    {
     "name": "stdout",
     "output_type": "stream",
     "text": [
      ">>> uniq tuple added <<<\n",
      "0    (1, 1, 2015-04-20, 0)\n",
      "1    (1, 1, 2015-04-20, 1)\n",
      "2    (1, 0, 2015-04-20, 2)\n",
      "3    (2, 2, 2015-04-20, 3)\n",
      "4    (3, 3, 2015-04-20, 4)\n",
      "5    (3, 3, 2015-04-20, 5)\n",
      "6    (4, 4, 2015-04-20, 6)\n",
      "7    (4, 0, 2015-04-20, 7)\n",
      "8    (4, 4, 2015-04-20, 8)\n",
      "9    (4, 4, 2015-04-20, 9)\n",
      "Name: uniq, dtype: object\n"
     ]
    }
   ],
   "source": [
    "df['uniq'] = zip(df['customer_id'], df['organization_id'], df['summary_day'], df.index.values)\n",
    "\n",
    "print \">>> uniq tuple added <<<\"\n",
    "print df.uniq.head(n=10)"
   ]
  },
  {
   "cell_type": "code",
   "execution_count": 69,
   "metadata": {
    "collapsed": false
   },
   "outputs": [
    {
     "data": {
      "text/html": [
       "<div style=\"max-height:1000px;max-width:1500px;overflow:auto;\">\n",
       "<table border=\"1\" class=\"dataframe\">\n",
       "  <thead>\n",
       "    <tr style=\"text-align: right;\">\n",
       "      <th>event</th>\n",
       "      <th>add_f</th>\n",
       "      <th>add_t</th>\n",
       "      <th>drop_f</th>\n",
       "      <th>drop_t</th>\n",
       "    </tr>\n",
       "    <tr>\n",
       "      <th>uniq</th>\n",
       "      <th></th>\n",
       "      <th></th>\n",
       "      <th></th>\n",
       "      <th></th>\n",
       "    </tr>\n",
       "  </thead>\n",
       "  <tbody>\n",
       "    <tr>\n",
       "      <th>(1, 0, 2015-04-20, 2)</th>\n",
       "      <td>0</td>\n",
       "      <td>0</td>\n",
       "      <td>1</td>\n",
       "      <td>0</td>\n",
       "    </tr>\n",
       "    <tr>\n",
       "      <th>(1, 1, 2015-04-20, 0)</th>\n",
       "      <td>0</td>\n",
       "      <td>1</td>\n",
       "      <td>0</td>\n",
       "      <td>0</td>\n",
       "    </tr>\n",
       "    <tr>\n",
       "      <th>(1, 1, 2015-04-20, 1)</th>\n",
       "      <td>0</td>\n",
       "      <td>1</td>\n",
       "      <td>0</td>\n",
       "      <td>0</td>\n",
       "    </tr>\n",
       "    <tr>\n",
       "      <th>(2, 2, 2015-04-20, 3)</th>\n",
       "      <td>0</td>\n",
       "      <td>0</td>\n",
       "      <td>1</td>\n",
       "      <td>0</td>\n",
       "    </tr>\n",
       "    <tr>\n",
       "      <th>(3, 3, 2015-04-20, 4)</th>\n",
       "      <td>0</td>\n",
       "      <td>0</td>\n",
       "      <td>0</td>\n",
       "      <td>1</td>\n",
       "    </tr>\n",
       "    <tr>\n",
       "      <th>(3, 3, 2015-04-20, 5)</th>\n",
       "      <td>1</td>\n",
       "      <td>0</td>\n",
       "      <td>0</td>\n",
       "      <td>0</td>\n",
       "    </tr>\n",
       "    <tr>\n",
       "      <th>(4, 0, 2015-04-20, 7)</th>\n",
       "      <td>0</td>\n",
       "      <td>1</td>\n",
       "      <td>0</td>\n",
       "      <td>0</td>\n",
       "    </tr>\n",
       "    <tr>\n",
       "      <th>(4, 4, 2015-04-20, 6)</th>\n",
       "      <td>1</td>\n",
       "      <td>0</td>\n",
       "      <td>0</td>\n",
       "      <td>0</td>\n",
       "    </tr>\n",
       "    <tr>\n",
       "      <th>(4, 4, 2015-04-20, 8)</th>\n",
       "      <td>0</td>\n",
       "      <td>1</td>\n",
       "      <td>0</td>\n",
       "      <td>0</td>\n",
       "    </tr>\n",
       "    <tr>\n",
       "      <th>(4, 4, 2015-04-20, 9)</th>\n",
       "      <td>0</td>\n",
       "      <td>0</td>\n",
       "      <td>0</td>\n",
       "      <td>1</td>\n",
       "    </tr>\n",
       "  </tbody>\n",
       "</table>\n",
       "</div>"
      ],
      "text/plain": [
       "event                  add_f  add_t  drop_f  drop_t\n",
       "uniq                                               \n",
       "(1, 0, 2015-04-20, 2)      0      0       1       0\n",
       "(1, 1, 2015-04-20, 0)      0      1       0       0\n",
       "(1, 1, 2015-04-20, 1)      0      1       0       0\n",
       "(2, 2, 2015-04-20, 3)      0      0       1       0\n",
       "(3, 3, 2015-04-20, 4)      0      0       0       1\n",
       "(3, 3, 2015-04-20, 5)      1      0       0       0\n",
       "(4, 0, 2015-04-20, 7)      0      1       0       0\n",
       "(4, 4, 2015-04-20, 6)      1      0       0       0\n",
       "(4, 4, 2015-04-20, 8)      0      1       0       0\n",
       "(4, 4, 2015-04-20, 9)      0      0       0       1"
      ]
     },
     "execution_count": 69,
     "metadata": {},
     "output_type": "execute_result"
    }
   ],
   "source": [
    "df = df.pivot('uniq', 'event', 'score')\n",
    "df.fillna(0, inplace=True)\n",
    "df"
   ]
  },
  {
   "cell_type": "markdown",
   "metadata": {},
   "source": [
    "* extract two columns from dataframe as a numpy ndarray\n",
    "* add the columns (sum over the rows, which is axis=1"
   ]
  },
  {
   "cell_type": "code",
   "execution_count": 100,
   "metadata": {
    "collapsed": false
   },
   "outputs": [
    {
     "data": {
      "text/plain": [
       "array([[ 0.,  0.],\n",
       "       [ 1.,  0.],\n",
       "       [ 1.,  0.],\n",
       "       [ 0.,  0.],\n",
       "       [ 0.,  0.],\n",
       "       [ 0.,  1.],\n",
       "       [ 1.,  0.],\n",
       "       [ 0.,  1.],\n",
       "       [ 1.,  0.],\n",
       "       [ 0.,  0.]])"
      ]
     },
     "execution_count": 100,
     "metadata": {},
     "output_type": "execute_result"
    }
   ],
   "source": [
    "s = df[['add_t', 'add_f']].values\n",
    "s"
   ]
  },
  {
   "cell_type": "code",
   "execution_count": 102,
   "metadata": {
    "collapsed": false
   },
   "outputs": [],
   "source": [
    "df['add_total'] = s.sum(axis=1)"
   ]
  },
  {
   "cell_type": "code",
   "execution_count": 103,
   "metadata": {
    "collapsed": false
   },
   "outputs": [
    {
     "data": {
      "text/plain": [
       "uniq\n",
       "(1, 0, 2015-04-20, 2)    0\n",
       "(1, 1, 2015-04-20, 0)    1\n",
       "(1, 1, 2015-04-20, 1)    1\n",
       "(2, 2, 2015-04-20, 3)    0\n",
       "(3, 3, 2015-04-20, 4)    0\n",
       "(3, 3, 2015-04-20, 5)    1\n",
       "(4, 0, 2015-04-20, 7)    1\n",
       "(4, 4, 2015-04-20, 6)    1\n",
       "(4, 4, 2015-04-20, 8)    1\n",
       "(4, 4, 2015-04-20, 9)    0\n",
       "Name: add_total, dtype: float64"
      ]
     },
     "execution_count": 103,
     "metadata": {},
     "output_type": "execute_result"
    }
   ],
   "source": [
    "df['add_total'].head(n=10)"
   ]
  },
  {
   "cell_type": "markdown",
   "metadata": {},
   "source": []
  },
  {
   "cell_type": "code",
   "execution_count": 74,
   "metadata": {
    "collapsed": true
   },
   "outputs": [],
   "source": [
    "def calc_sn_total(df):\n",
    "    sn_add = [c for c in df.columns.tolist()\n",
    "                if c.startswith('add')]\n",
    "    sn_drop = [c for c in df.columns.tolist()\n",
    "                if c.startswith('drop')]\n",
    "\n",
    "    def calc(x):\n",
    "        sum = 0\n",
    "        for c in sn_add:\n",
    "            sum += x[c]\n",
    "        for c in sn_drop:\n",
    "            sum -= x[c]\n",
    "        return sum\n",
    "\n",
    "    return calc\n",
    "\n",
    "\n",
    "def assign_calc_columns(df):\n",
    "    return df.assign(sn_total = calc_sn_total(df))"
   ]
  },
  {
   "cell_type": "code",
   "execution_count": 75,
   "metadata": {
    "collapsed": false
   },
   "outputs": [
    {
     "name": "stdout",
     "output_type": "stream",
     "text": [
      ">>> add key columns back <<<\n",
      "event                  add_f  add_t  drop_f  drop_t  add_total  sn_total  \\\n",
      "uniq                                                                       \n",
      "(1, 0, 2015-04-20, 2)      0      0       1       0          0        -1   \n",
      "(1, 1, 2015-04-20, 0)      0      1       0       0          1         2   \n",
      "(1, 1, 2015-04-20, 1)      0      1       0       0          1         2   \n",
      "(2, 2, 2015-04-20, 3)      0      0       1       0          0        -1   \n",
      "(3, 3, 2015-04-20, 4)      0      0       0       1          0        -1   \n",
      "(3, 3, 2015-04-20, 5)      1      0       0       0          1         2   \n",
      "(4, 0, 2015-04-20, 7)      0      1       0       0          1         2   \n",
      "(4, 4, 2015-04-20, 6)      1      0       0       0          1         2   \n",
      "(4, 4, 2015-04-20, 8)      0      1       0       0          1         2   \n",
      "(4, 4, 2015-04-20, 9)      0      0       0       1          0        -1   \n",
      "\n",
      "event                  customer_id  organization_id summary_day  \n",
      "uniq                                                             \n",
      "(1, 0, 2015-04-20, 2)            1                0  2015-04-20  \n",
      "(1, 1, 2015-04-20, 0)            1                1  2015-04-20  \n",
      "(1, 1, 2015-04-20, 1)            1                1  2015-04-20  \n",
      "(2, 2, 2015-04-20, 3)            2                2  2015-04-20  \n",
      "(3, 3, 2015-04-20, 4)            3                3  2015-04-20  \n",
      "(3, 3, 2015-04-20, 5)            3                3  2015-04-20  \n",
      "(4, 0, 2015-04-20, 7)            4                0  2015-04-20  \n",
      "(4, 4, 2015-04-20, 6)            4                4  2015-04-20  \n",
      "(4, 4, 2015-04-20, 8)            4                4  2015-04-20  \n",
      "(4, 4, 2015-04-20, 9)            4                4  2015-04-20  \n"
     ]
    }
   ],
   "source": [
    "df = assign_calc_columns(df)\n",
    "\n",
    "columns_score = df.columns.tolist()\n",
    "columns_key = ['summary_day', 'customer_id', 'organization_id']\n",
    "\n",
    "df['customer_id'] = [v[0] for v in df.index.values]\n",
    "df['organization_id'] = [v[1] for v in df.index.values]\n",
    "df['summary_day'] = [v[2] for v in df.index.values]\n",
    "\n",
    "print \">>> add key columns back <<<\"\n",
    "print df.head(n=10)"
   ]
  },
  {
   "cell_type": "markdown",
   "metadata": {},
   "source": [
    "* write the result to a csv file"
   ]
  },
  {
   "cell_type": "code",
   "execution_count": 76,
   "metadata": {
    "collapsed": false
   },
   "outputs": [
    {
     "name": "stdout",
     "output_type": "stream",
     "text": [
      ">>> csv columns <<<\n",
      "['summary_day', 'customer_id', 'organization_id', 'add_f', 'add_t', 'add_total', 'drop_f', 'drop_t', 'sn_total']\n"
     ]
    }
   ],
   "source": [
    "columns_csv = columns_key + sorted(columns_score)\n",
    "\n",
    "print \">>> csv columns <<<\"\n",
    "print columns_csv\n",
    "\n",
    "df.to_csv(\"tmp.csv\", columns=columns_csv, index=False)"
   ]
  },
  {
   "cell_type": "markdown",
   "metadata": {},
   "source": [
    "### split data frame and use index"
   ]
  },
  {
   "cell_type": "code",
   "execution_count": 77,
   "metadata": {
    "collapsed": false
   },
   "outputs": [],
   "source": [
    "class WorkspaceSplit():\n",
    "    df = None\n",
    "    df_pivot = None\n",
    "\n",
    "spl = WorkspaceSplit()"
   ]
  },
  {
   "cell_type": "code",
   "execution_count": 78,
   "metadata": {
    "collapsed": false
   },
   "outputs": [
    {
     "data": {
      "text/html": [
       "<div style=\"max-height:1000px;max-width:1500px;overflow:auto;\">\n",
       "<table border=\"1\" class=\"dataframe\">\n",
       "  <thead>\n",
       "    <tr style=\"text-align: right;\">\n",
       "      <th>event</th>\n",
       "      <th>add_f</th>\n",
       "      <th>add_t</th>\n",
       "      <th>drop_f</th>\n",
       "      <th>drop_t</th>\n",
       "      <th>summary_day</th>\n",
       "      <th>customer_id</th>\n",
       "      <th>organization_id</th>\n",
       "    </tr>\n",
       "    <tr>\n",
       "      <th>pix</th>\n",
       "      <th></th>\n",
       "      <th></th>\n",
       "      <th></th>\n",
       "      <th></th>\n",
       "      <th></th>\n",
       "      <th></th>\n",
       "      <th></th>\n",
       "    </tr>\n",
       "  </thead>\n",
       "  <tbody>\n",
       "    <tr>\n",
       "      <th>0</th>\n",
       "      <td>0</td>\n",
       "      <td>1</td>\n",
       "      <td>0</td>\n",
       "      <td>0</td>\n",
       "      <td>2015-04-20</td>\n",
       "      <td>1</td>\n",
       "      <td>1</td>\n",
       "    </tr>\n",
       "    <tr>\n",
       "      <th>1</th>\n",
       "      <td>0</td>\n",
       "      <td>1</td>\n",
       "      <td>0</td>\n",
       "      <td>0</td>\n",
       "      <td>2015-04-20</td>\n",
       "      <td>1</td>\n",
       "      <td>1</td>\n",
       "    </tr>\n",
       "    <tr>\n",
       "      <th>2</th>\n",
       "      <td>0</td>\n",
       "      <td>0</td>\n",
       "      <td>1</td>\n",
       "      <td>0</td>\n",
       "      <td>2015-04-20</td>\n",
       "      <td>1</td>\n",
       "      <td>0</td>\n",
       "    </tr>\n",
       "    <tr>\n",
       "      <th>3</th>\n",
       "      <td>0</td>\n",
       "      <td>0</td>\n",
       "      <td>1</td>\n",
       "      <td>0</td>\n",
       "      <td>2015-04-20</td>\n",
       "      <td>2</td>\n",
       "      <td>2</td>\n",
       "    </tr>\n",
       "    <tr>\n",
       "      <th>4</th>\n",
       "      <td>0</td>\n",
       "      <td>0</td>\n",
       "      <td>0</td>\n",
       "      <td>1</td>\n",
       "      <td>2015-04-20</td>\n",
       "      <td>3</td>\n",
       "      <td>3</td>\n",
       "    </tr>\n",
       "    <tr>\n",
       "      <th>5</th>\n",
       "      <td>1</td>\n",
       "      <td>0</td>\n",
       "      <td>0</td>\n",
       "      <td>0</td>\n",
       "      <td>2015-04-20</td>\n",
       "      <td>3</td>\n",
       "      <td>3</td>\n",
       "    </tr>\n",
       "    <tr>\n",
       "      <th>6</th>\n",
       "      <td>1</td>\n",
       "      <td>0</td>\n",
       "      <td>0</td>\n",
       "      <td>0</td>\n",
       "      <td>2015-04-20</td>\n",
       "      <td>4</td>\n",
       "      <td>4</td>\n",
       "    </tr>\n",
       "    <tr>\n",
       "      <th>7</th>\n",
       "      <td>0</td>\n",
       "      <td>1</td>\n",
       "      <td>0</td>\n",
       "      <td>0</td>\n",
       "      <td>2015-04-20</td>\n",
       "      <td>4</td>\n",
       "      <td>0</td>\n",
       "    </tr>\n",
       "    <tr>\n",
       "      <th>8</th>\n",
       "      <td>0</td>\n",
       "      <td>1</td>\n",
       "      <td>0</td>\n",
       "      <td>0</td>\n",
       "      <td>2015-04-20</td>\n",
       "      <td>4</td>\n",
       "      <td>4</td>\n",
       "    </tr>\n",
       "    <tr>\n",
       "      <th>9</th>\n",
       "      <td>0</td>\n",
       "      <td>0</td>\n",
       "      <td>0</td>\n",
       "      <td>1</td>\n",
       "      <td>2015-04-20</td>\n",
       "      <td>4</td>\n",
       "      <td>4</td>\n",
       "    </tr>\n",
       "  </tbody>\n",
       "</table>\n",
       "</div>"
      ],
      "text/plain": [
       "event  add_f  add_t  drop_f  drop_t summary_day  customer_id  organization_id\n",
       "pix                                                                          \n",
       "0          0      1       0       0  2015-04-20            1                1\n",
       "1          0      1       0       0  2015-04-20            1                1\n",
       "2          0      0       1       0  2015-04-20            1                0\n",
       "3          0      0       1       0  2015-04-20            2                2\n",
       "4          0      0       0       1  2015-04-20            3                3\n",
       "5          1      0       0       0  2015-04-20            3                3\n",
       "6          1      0       0       0  2015-04-20            4                4\n",
       "7          0      1       0       0  2015-04-20            4                0\n",
       "8          0      1       0       0  2015-04-20            4                4\n",
       "9          0      0       0       1  2015-04-20            4                4"
      ]
     },
     "execution_count": 78,
     "metadata": {},
     "output_type": "execute_result"
    }
   ],
   "source": [
    "spl.df = pd.DataFrame(data)\n",
    "\n",
    "pk = spl.df[['summary_day', 'customer_id', 'organization_id']]\n",
    "col = spl.df[['event', 'score']]\n",
    "\n",
    "col.index.name = 'pix'\n",
    "col.reset_index(inplace=True)\n",
    "\n",
    "col_pivot = col.pivot('pix', 'event', 'score')\n",
    "col_pivot.fillna(0, inplace=True)\n",
    "\n",
    "spl.df_pivot =  pd.concat([col_pivot, pk], axis=1, join='inner')\n",
    "spl.df_pivot"
   ]
  },
  {
   "cell_type": "markdown",
   "metadata": {},
   "source": [
    "## Blaze"
   ]
  },
  {
   "cell_type": "code",
   "execution_count": 79,
   "metadata": {
    "collapsed": true
   },
   "outputs": [],
   "source": [
    "from blaze import by"
   ]
  },
  {
   "cell_type": "code",
   "execution_count": 80,
   "metadata": {
    "collapsed": true
   },
   "outputs": [],
   "source": [
    "class WorkspaceBlaze(object):\n",
    "    df = None\n",
    "\n",
    "blz = WorkspaceBlaze()"
   ]
  },
  {
   "cell_type": "code",
   "execution_count": 81,
   "metadata": {
    "collapsed": false
   },
   "outputs": [
    {
     "name": "stdout",
     "output_type": "stream",
     "text": [
      "[7 8]\n",
      "   0\n",
      "0  2\n",
      "1 -1\n"
     ]
    }
   ],
   "source": [
    "a = [1,1]\n",
    "b = [2,2]\n",
    "c = [4,2]\n",
    "d = [0,3]\n",
    "\n",
    "m = np.array([a, b, c, d])\n",
    "print m.sum(axis=0)\n",
    "\n",
    "cast = pd.DataFrame([2.0, np.nan])\n",
    "cast.fillna(-1, inplace=True)\n",
    "\n",
    "print cast\n",
    "#print cast.apply(lambda x: str(int(x)) )"
   ]
  },
  {
   "cell_type": "code",
   "execution_count": 82,
   "metadata": {
    "collapsed": false
   },
   "outputs": [
    {
     "ename": "NotImplementedError",
     "evalue": "Could not find signature for by: <list>",
     "output_type": "error",
     "traceback": [
      "\u001b[1;31m---------------------------------------------------------------------------\u001b[0m",
      "\u001b[1;31mNotImplementedError\u001b[0m                       Traceback (most recent call last)",
      "\u001b[1;32m<ipython-input-82-d45ed7e78a60>\u001b[0m in \u001b[0;36m<module>\u001b[1;34m()\u001b[0m\n\u001b[0;32m      2\u001b[0m \u001b[0mt\u001b[0m \u001b[1;33m=\u001b[0m \u001b[0mData\u001b[0m\u001b[1;33m(\u001b[0m\u001b[0mblz\u001b[0m\u001b[1;33m.\u001b[0m\u001b[0mdf\u001b[0m\u001b[1;33m)\u001b[0m\u001b[1;33m\u001b[0m\u001b[0m\n\u001b[0;32m      3\u001b[0m \u001b[1;33m\u001b[0m\u001b[0m\n\u001b[1;32m----> 4\u001b[1;33m \u001b[0mby\u001b[0m\u001b[1;33m(\u001b[0m\u001b[1;33m[\u001b[0m\u001b[0mt\u001b[0m\u001b[1;33m.\u001b[0m\u001b[0mcustomer_id\u001b[0m\u001b[1;33m,\u001b[0m \u001b[0mt\u001b[0m\u001b[1;33m.\u001b[0m\u001b[0morganization_id\u001b[0m\u001b[1;33m]\u001b[0m\u001b[1;33m,\u001b[0m \u001b[0mtotal\u001b[0m \u001b[1;33m=\u001b[0m \u001b[0mt\u001b[0m\u001b[1;33m.\u001b[0m\u001b[0mscore\u001b[0m\u001b[1;33m.\u001b[0m\u001b[0msum\u001b[0m\u001b[1;33m(\u001b[0m\u001b[1;33m)\u001b[0m\u001b[1;33m)\u001b[0m\u001b[1;33m\u001b[0m\u001b[0m\n\u001b[0m",
      "\u001b[1;32m/home/achtmhz/venv_datahacks/local/lib/python2.7/site-packages/multipledispatch/dispatcher.pyc\u001b[0m in \u001b[0;36m__call__\u001b[1;34m(self, *args, **kwargs)\u001b[0m\n\u001b[0;32m    159\u001b[0m                 raise NotImplementedError(\n\u001b[0;32m    160\u001b[0m                         \u001b[1;34m'Could not find signature for %s: <%s>'\u001b[0m \u001b[1;33m%\u001b[0m\u001b[1;33m\u001b[0m\u001b[0m\n\u001b[1;32m--> 161\u001b[1;33m                         (self.name, str_signature(types)))\n\u001b[0m\u001b[0;32m    162\u001b[0m             \u001b[0mself\u001b[0m\u001b[1;33m.\u001b[0m\u001b[0m_cache\u001b[0m\u001b[1;33m[\u001b[0m\u001b[0mtypes\u001b[0m\u001b[1;33m]\u001b[0m \u001b[1;33m=\u001b[0m \u001b[0mfunc\u001b[0m\u001b[1;33m\u001b[0m\u001b[0m\n\u001b[0;32m    163\u001b[0m         \u001b[1;32mtry\u001b[0m\u001b[1;33m:\u001b[0m\u001b[1;33m\u001b[0m\u001b[0m\n",
      "\u001b[1;31mNotImplementedError\u001b[0m: Could not find signature for by: <list>"
     ]
    }
   ],
   "source": [
    "blz.df = pd.DataFrame(data)\n",
    "t = Data(blz.df)\n",
    "\n",
    "by([t.customer_id, t.organization_id], total = t.score.sum())"
   ]
  }
 ],
 "metadata": {
  "kernelspec": {
   "display_name": "Python 2",
   "language": "python",
   "name": "python2"
  },
  "language_info": {
   "codemirror_mode": {
    "name": "ipython",
    "version": 2
   },
   "file_extension": ".py",
   "mimetype": "text/x-python",
   "name": "python",
   "nbconvert_exporter": "python",
   "pygments_lexer": "ipython2",
   "version": "2.7.6"
  }
 },
 "nbformat": 4,
 "nbformat_minor": 0
}
