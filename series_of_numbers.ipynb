{
 "cells": [
  {
   "cell_type": "markdown",
   "metadata": {},
   "source": [
    "# series of numbers"
   ]
  },
  {
   "cell_type": "markdown",
   "metadata": {},
   "source": [
    "## function defines pattern"
   ]
  },
  {
   "cell_type": "markdown",
   "metadata": {},
   "source": [
    "### function has fixed number of parameters and parameters are a slice taken from tail of series \n",
    "\n",
    "series categorize by number of elements from the series used in function.\n",
    "function depends on a contiguous slice of elements in the series of size N preceding the element to be calculated.\n",
    "\n",
    "* 1 parameter  => s[n] = f(s[n-1])\n",
    "* 2 parameters => s[n] = f(s[n-2], s[n-1])"
   ]
  },
  {
   "cell_type": "code",
   "execution_count": null,
   "metadata": {
    "collapsed": true
   },
   "outputs": [],
   "source": [
    "def find_missing_in(series, anchor, f_next):\n",
    "    '''\n",
    "    find missing and unfitting numbers in a monotonically increasing series of numbers\n",
    "    '''\n",
    "    missing = []\n",
    "    fit = []\n",
    "    misfit = []\n",
    "    element = anchor\n",
    "    ix = 0\n",
    "    \n",
    "    while element <= series[-1]:\n",
    "        if element < series[ix]:\n",
    "            missing.append(element)\n",
    "            element = f_next(element)\n",
    "        elif element > series[ix]:\n",
    "            misfit.append(series[ix])\n",
    "            ix += 1\n",
    "        else:\n",
    "            fit.append(element)\n",
    "            ix += 1\n",
    "            element = f_next(element)\n",
    "        \n",
    "    return fit, missing, misfit"
   ]
  },
  {
   "cell_type": "code",
   "execution_count": null,
   "metadata": {
    "collapsed": true
   },
   "outputs": [],
   "source": [
    "find_missing_in([1,2.5,2.8,4], 1, lambda x: x+1)"
   ]
  }
 ],
 "metadata": {
  "kernelspec": {
   "display_name": "Python 2",
   "language": "python",
   "name": "python2"
  },
  "language_info": {
   "codemirror_mode": {
    "name": "ipython",
    "version": 2
   },
   "file_extension": ".py",
   "mimetype": "text/x-python",
   "name": "python",
   "nbconvert_exporter": "python",
   "pygments_lexer": "ipython2",
   "version": "2.7.12+"
  }
 },
 "nbformat": 4,
 "nbformat_minor": 0
}
