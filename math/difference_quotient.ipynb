{
 "cells": [
  {
   "cell_type": "markdown",
   "metadata": {},
   "source": [
    "### setup"
   ]
  },
  {
   "cell_type": "code",
   "execution_count": 4,
   "metadata": {},
   "outputs": [
    {
     "name": "stdout",
     "output_type": "stream",
     "text": [
      "Populating the interactive namespace from numpy and matplotlib\n"
     ]
    }
   ],
   "source": [
    "%pylab inline"
   ]
  },
  {
   "cell_type": "code",
   "execution_count": 5,
   "metadata": {},
   "outputs": [],
   "source": [
    "from sympy import *\n",
    "init_printing(use_unicode=True)"
   ]
  },
  {
   "cell_type": "code",
   "execution_count": 18,
   "metadata": {},
   "outputs": [],
   "source": [
    "x, y, z = symbols('x y z')\n",
    "h = symbols('h')\n",
    "n, m = symbols('n m')"
   ]
  },
  {
   "cell_type": "markdown",
   "metadata": {},
   "source": [
    "### a few difference quotient of monomials"
   ]
  },
  {
   "cell_type": "code",
   "execution_count": 29,
   "metadata": {},
   "outputs": [
    {
     "data": {
      "image/png": "[encoded data removed]",
      "text/latex": [
       "$$\\left [ - n^{2} + \\left(n + 1\\right)^{2}, \\quad - n^{3} + \\left(n + 1\\right)^{3}, \\quad - n^{4} + \\left(n + 1\\right)^{4}, \\quad - n^{5} + \\left(n + 1\\right)^{5}\\right ]$$"
      ],
      "text/plain": [
       "⎡   2          2     3          3     4          4     5          5⎤\n",
       "⎣- n  + (n + 1) , - n  + (n + 1) , - n  + (n + 1) , - n  + (n + 1) ⎦"
      ]
     },
     "execution_count": 29,
     "metadata": {},
     "output_type": "execute_result"
    }
   ],
   "source": [
    "dq_mono = [((n+1)**i - n**i) for i in range(2,6)]\n",
    "dq_mono"
   ]
  },
  {
   "cell_type": "markdown",
   "metadata": {},
   "source": [
    "#### "
   ]
  },
  {
   "cell_type": "code",
   "execution_count": 36,
   "metadata": {},
   "outputs": [
    {
     "data": {
      "image/png": "[encoded data removed]",
      "text/latex": [
       "$$\\left [ \\left [ 1, \\quad 3, \\quad 5, \\quad 7, \\quad 9, \\quad 11\\right ], \\quad \\left [ 1, \\quad 7, \\quad 19, \\quad 37, \\quad 61, \\quad 91\\right ], \\quad \\left [ 1, \\quad 15, \\quad 65, \\quad 175, \\quad 369, \\quad 671\\right ], \\quad \\left [ 1, \\quad 31, \\quad 211, \\quad 781, \\quad 2101, \\quad 4651\\right ]\\right ]$$"
      ],
      "text/plain": [
       "[[1, 3, 5, 7, 9, 11], [1, 7, 19, 37, 61, 91], [1, 15, 65, 175, 369, 671], [1, \n",
       "31, 211, 781, 2101, 4651]]"
      ]
     },
     "execution_count": 36,
     "metadata": {},
     "output_type": "execute_result"
    }
   ],
   "source": [
    "dq_mono_sample = [[dq.subs(n, i) for i in range(0,6)] for dq in dq_mono]\n",
    "dq_mono_sample"
   ]
  },
  {
   "cell_type": "markdown",
   "metadata": {},
   "source": [
    "#### "
   ]
  },
  {
   "cell_type": "code",
   "execution_count": 38,
   "metadata": {},
   "outputs": [
    {
     "data": {
      "text/plain": [
       "[array([2, 2, 2, 2, 2], dtype=object),\n",
       " array([6, 12, 18, 24, 30], dtype=object),\n",
       " array([14, 50, 110, 194, 302], dtype=object),\n",
       " array([30, 180, 570, 1320, 2550], dtype=object)]"
      ]
     },
     "execution_count": 38,
     "metadata": {},
     "output_type": "execute_result"
    }
   ],
   "source": [
    "dq_mono_diff = [np.diff(sample) for sample in dq_mono_sample]\n",
    "dq_mono_diff"
   ]
  },
  {
   "cell_type": "code",
   "execution_count": 39,
   "metadata": {},
   "outputs": [
    {
     "data": {
      "text/plain": [
       "[array([0, 0, 0, 0], dtype=object),\n",
       " array([6, 6, 6, 6], dtype=object),\n",
       " array([36, 60, 84, 108], dtype=object),\n",
       " array([150, 390, 750, 1230], dtype=object)]"
      ]
     },
     "execution_count": 39,
     "metadata": {},
     "output_type": "execute_result"
    }
   ],
   "source": [
    "dq_mono_second_diff = [np.diff(sample) for sample in dq_mono_diff]\n",
    "dq_mono_second_diff"
   ]
  },
  {
   "cell_type": "code",
   "execution_count": 40,
   "metadata": {},
   "outputs": [
    {
     "data": {
      "text/plain": [
       "[array([0, 0, 0], dtype=object),\n",
       " array([0, 0, 0], dtype=object),\n",
       " array([24, 24, 24], dtype=object),\n",
       " array([240, 360, 480], dtype=object)]"
      ]
     },
     "execution_count": 40,
     "metadata": {},
     "output_type": "execute_result"
    }
   ],
   "source": [
    "dq_mono_third_diff = [np.diff(sample) for sample in dq_mono_second_diff]\n",
    "dq_mono_third_diff"
   ]
  }
 ],
 "metadata": {
  "kernelspec": {
   "display_name": "Python 3",
   "language": "python",
   "name": "python3"
  },
  "language_info": {
   "codemirror_mode": {
    "name": "ipython",
    "version": 3
   },
   "file_extension": ".py",
   "mimetype": "text/x-python",
   "name": "python",
   "nbconvert_exporter": "python",
   "pygments_lexer": "ipython3",
   "version": "3.6.5"
  }
 },
 "nbformat": 4,
 "nbformat_minor": 2
}
