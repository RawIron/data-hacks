{
 "cells": [
  {
   "cell_type": "code",
   "execution_count": 3,
   "metadata": {
    "collapsed": true
   },
   "outputs": [],
   "source": [
    "import numpy as np"
   ]
  },
  {
   "cell_type": "code",
   "execution_count": 10,
   "metadata": {
    "collapsed": false
   },
   "outputs": [
    {
     "data": {
      "text/plain": [
       "216000"
      ]
     },
     "execution_count": 10,
     "metadata": {},
     "output_type": "execute_result"
    }
   ],
   "source": [
    "months = 120\n",
    "rent = np.array([1800] * months)\n",
    "\n",
    "rent.sum()"
   ]
  },
  {
   "cell_type": "code",
   "execution_count": 11,
   "metadata": {
    "collapsed": false
   },
   "outputs": [
    {
     "data": {
      "text/plain": [
       "[110.00000000000001,\n",
       " 121.00000000000001,\n",
       " 133.10000000000005,\n",
       " 146.41000000000005,\n",
       " 161.05100000000004,\n",
       " 177.1561000000001,\n",
       " 194.87171000000012,\n",
       " 214.35888100000017,\n",
       " 235.7947691000002]"
      ]
     },
     "execution_count": 11,
     "metadata": {},
     "output_type": "execute_result"
    }
   ],
   "source": [
    "rent_increase = 0.03\n",
    "z = 0.1\n",
    "C = 100\n",
    "\n",
    "def TimeValue(n): return (1+z)**n\n",
    "\n",
    "[C * TimeValue(n) for n in np.arange(1,10)]"
   ]
  }
 ],
 "metadata": {
  "kernelspec": {
   "display_name": "Python 2",
   "language": "python",
   "name": "python2"
  },
  "language_info": {
   "codemirror_mode": {
    "name": "ipython",
    "version": 2
   },
   "file_extension": ".py",
   "mimetype": "text/x-python",
   "name": "python",
   "nbconvert_exporter": "python",
   "pygments_lexer": "ipython2",
   "version": "2.7.6"
  }
 },
 "nbformat": 4,
 "nbformat_minor": 0
}
