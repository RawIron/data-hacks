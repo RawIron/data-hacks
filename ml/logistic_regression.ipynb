{
 "cells": [
  {
   "cell_type": "code",
   "execution_count": 7,
   "metadata": {
    "collapsed": false
   },
   "outputs": [
    {
     "name": "stdout",
     "output_type": "stream",
     "text": [
      "Populating the interactive namespace from numpy and matplotlib\n"
     ]
    }
   ],
   "source": [
    "%pylab inline\n",
    "\n",
    "import pandas as pd\n",
    "import numpy as np"
   ]
  },
  {
   "cell_type": "code",
   "execution_count": 9,
   "metadata": {
    "collapsed": true
   },
   "outputs": [],
   "source": [
    "import os\n",
    "import sys\n",
    "sys.path.append(os.environ.get('PYTHONPATH', None))"
   ]
  },
  {
   "cell_type": "code",
   "execution_count": 10,
   "metadata": {
    "collapsed": true
   },
   "outputs": [],
   "source": [
    "import util"
   ]
  },
  {
   "cell_type": "code",
   "execution_count": 11,
   "metadata": {
    "collapsed": false
   },
   "outputs": [],
   "source": [
    "pd.set_option('display.width', 120)"
   ]
  },
  {
   "cell_type": "code",
   "execution_count": 8,
   "metadata": {
    "collapsed": true
   },
   "outputs": [],
   "source": [
    "from sklearn.linear_model import LogisticRegression\n",
    "from sklearn.cross_validation import train_test_split"
   ]
  },
  {
   "cell_type": "markdown",
   "metadata": {},
   "source": [
    "## Logistic Regression"
   ]
  },
  {
   "cell_type": "markdown",
   "metadata": {},
   "source": [
    "* Usually events are used to collect user actions.\n",
    "* In Redshift each event is stored in a single row.\n",
    "\n",
    "* As input to Logistic Regression one row per user is required.\n",
    "* The row contains all features calculated for each member."
   ]
  },
  {
   "cell_type": "markdown",
   "metadata": {},
   "source": [
    "### Transform Data"
   ]
  },
  {
   "cell_type": "code",
   "execution_count": 12,
   "metadata": {
    "collapsed": false
   },
   "outputs": [],
   "source": [
    "def pivot(action):\n",
    "    df = pd.DataFrame(action, columns=['summary_day', 'member_id', 'event', 'score'])\n",
    "    pk_columns = ['summary_day', 'member_id']\n",
    "\n",
    "    # PIVOT\n",
    "    df_pk = df[pk_columns]\n",
    "\n",
    "    df_col = df[['event', 'score']]\n",
    "    df_col.index.name = 'uniq'\n",
    "    df_col.reset_index(inplace=True)\n",
    "\n",
    "    df = df_col.pivot('uniq', 'event', 'score')\n",
    "    df.fillna(0, inplace=True)\n",
    "\n",
    "    df = pd.concat([df, df_pk], axis=1, join='inner')\n",
    "\n",
    "    # GROUP BY\n",
    "    groups = df.groupby(pk_columns)\n",
    "    groups_sum = groups.aggregate(np.sum)\n",
    "    groups_sum.reset_index(inplace=True)\n",
    "    \n",
    "    return groups_sum\n",
    "\n",
    "\n",
    "def create_train(df, churn):\n",
    "    df_c = pd.DataFrame(churn, columns=['member_id', 'pro_churn'])\n",
    "    df = pd.merge(df, df_c, how='inner', on='member_id')\n",
    "    return df\n",
    "\n",
    "\n",
    "def train(df):\n",
    "    y = np.array(df['pro_churn'])\n",
    "    print y\n",
    "\n",
    "    X = np.array(df.drop(['summary_day', 'member_id', 'pro_churn'], axis=1, inplace=False))\n",
    "    print X\n",
    "\n",
    "    rgr = LogisticRegression()\n",
    "    rgr.fit(X, y)\n",
    "    print \">> coefficients <<\"\n",
    "    print rgr.coef_\n",
    "\n",
    "#   print np.dot(X, np.transpose(rgr.coef_))\n",
    "\n",
    "    # store the trained model\n",
    "    import pickle\n",
    "    stored_model = pickle.dumps(rgr)\n",
    "\n",
    "    return stored_model\n",
    "\n",
    "\n",
    "def predict(df, ml_model, X):\n",
    "    import pickle\n",
    "    clf = pickle.loads(ml_model)\n",
    "    \n",
    "    print \">> predicted <<\"\n",
    "    y = clf.predict(X)\n",
    "    print y\n",
    "\n",
    "    df_y = pd.DataFrame(y, columns=['y'])\n",
    "    df = pd.concat([df, df_y], axis=1, join='inner')\n",
    "\n",
    "    return df"
   ]
  },
  {
   "cell_type": "markdown",
   "metadata": {},
   "source": [
    "## Example: 2 features\n",
    "```\n",
    "features: ['send_message', 'add_sn']\n",
    "```"
   ]
  },
  {
   "cell_type": "code",
   "execution_count": 14,
   "metadata": {
    "collapsed": true
   },
   "outputs": [],
   "source": [
    "action = [\n",
    "     ('2015-05-19', 1, 'send_message', 1),\n",
    "     ('2015-05-19', 1, 'add_sn', 1),\n",
    "     ('2015-05-19', 2, 'add_sn', 1), \n",
    "     ('2015-05-19', 3, 'add_sn', 1),\n",
    "     ('2015-05-19', 2, 'send_message', 7),\n",
    "     ('2015-05-19', 4, 'add_sn', 1),\n",
    "     ('2015-05-19', 2, 'send_message', 1),\n",
    "     ('2015-05-19', 1, 'add_sn', 1),\n",
    "     ('2015-05-19', 2, 'send_message', 1), \n",
    "     ('2015-05-19', 4, 'add_sn', 1),\n",
    "     ('2015-05-19', 2, 'add_sn', 1),\n",
    "     ('2015-05-19', 4, 'send_message', 1),\n",
    "     ('2015-05-19', 2, 'send_message', 1), \n",
    "     ('2015-05-19', 4, 'add_sn', 1),\n",
    "     ('2015-05-19', 2, 'add_sn', 1),\n",
    "     ('2015-05-19', 4, 'send_message', 1),\n",
    "     ]\n",
    "\n",
    "churn_7 = [\n",
    "    (1, 0),\n",
    "    (2, 1),\n",
    "    (3, 0),\n",
    "    (4, 0),\n",
    "    ]"
   ]
  },
  {
   "cell_type": "markdown",
   "metadata": {},
   "source": [
    "### Train"
   ]
  },
  {
   "cell_type": "code",
   "execution_count": 15,
   "metadata": {
    "collapsed": false
   },
   "outputs": [
    {
     "name": "stdout",
     "output_type": "stream",
     "text": [
      "[0 1 0 0]\n",
      "[[  2.   1.]\n",
      " [  3.  10.]\n",
      " [  1.   0.]\n",
      " [  3.   2.]]\n",
      ">> coefficients <<\n",
      "[[-0.75410768  0.49477919]]\n"
     ]
    }
   ],
   "source": [
    "df = pivot(action)\n",
    "df = create_train(df, churn_7)\n",
    "stored_model = train(df)"
   ]
  },
  {
   "cell_type": "markdown",
   "metadata": {},
   "source": [
    "### Predict"
   ]
  },
  {
   "cell_type": "code",
   "execution_count": 16,
   "metadata": {
    "collapsed": false
   },
   "outputs": [
    {
     "name": "stdout",
     "output_type": "stream",
     "text": [
      ">> X <<\n",
      "[[ 2.  2.]\n",
      " [ 1.  3.]]\n"
     ]
    }
   ],
   "source": [
    "new_action = [\n",
    "     ('2015-05-20', 5, 'send_message', 1),\n",
    "     ('2015-05-20', 5, 'add_sn', 1),\n",
    "     ('2015-05-20', 5, 'send_message', 1), \n",
    "     ('2015-05-20', 5, 'add_sn', 1),\n",
    "     ('2015-05-20', 6, 'send_message', 1),\n",
    "     ('2015-05-20', 6, 'send_message', 1),\n",
    "     ('2015-05-20', 6, 'send_message', 1), \n",
    "     ('2015-05-20', 6, 'add_sn', 1),\n",
    "    ]\n",
    "\n",
    "df = pivot(new_action)\n",
    "\n",
    "pk_columns = ['summary_day', 'member_id']\n",
    "\n",
    "X = np.array(df.drop(pk_columns, axis=1, inplace=False))\n",
    "\n",
    "print \">> X <<\"\n",
    "print X"
   ]
  },
  {
   "cell_type": "code",
   "execution_count": 17,
   "metadata": {
    "collapsed": false
   },
   "outputs": [
    {
     "name": "stdout",
     "output_type": "stream",
     "text": [
      ">> predicted <<\n",
      "[0 1]\n",
      ">> result <<\n",
      "event summary_day  member_id  add_sn  send_message  y\n",
      "0      2015-05-20          5       2             2  0\n",
      "1      2015-05-20          6       1             3  1\n"
     ]
    }
   ],
   "source": [
    "df = predict(df, stored_model, X)\n",
    "\n",
    "print \">> result <<\"\n",
    "print df"
   ]
  },
  {
   "cell_type": "markdown",
   "metadata": {},
   "source": [
    "## Estimator Performance\n",
    "\n",
    "1. train and predict\n",
    "2. compare predicted with known correct scores using ROC, Confusion Matrix"
   ]
  },
  {
   "cell_type": "markdown",
   "metadata": {},
   "source": [
    "### ROC"
   ]
  },
  {
   "cell_type": "code",
   "execution_count": 19,
   "metadata": {
    "collapsed": false
   },
   "outputs": [],
   "source": [
    "df = pivot(action + new_action)"
   ]
  },
  {
   "cell_type": "code",
   "execution_count": 20,
   "metadata": {
    "collapsed": false
   },
   "outputs": [],
   "source": [
    "y = np.array(churn_7 + [(5,0), (6,1)])\n",
    "X = np.array(df.drop(['summary_day', 'member_id'], axis=1, inplace=False))"
   ]
  },
  {
   "cell_type": "code",
   "execution_count": 21,
   "metadata": {
    "collapsed": false
   },
   "outputs": [],
   "source": [
    "X_train, X_test, y_train, y_test = train_test_split(X, y[:,1:],\n",
    "                                                    test_size=0.2,\n",
    "                                                    random_state=0)"
   ]
  },
  {
   "cell_type": "code",
   "execution_count": 22,
   "metadata": {
    "collapsed": false
   },
   "outputs": [],
   "source": [
    "rgr = LogisticRegression()\n",
    "rgr.fit(X_train, y_train.ravel())\n",
    "y_score = rgr.predict(X_test)"
   ]
  },
  {
   "cell_type": "code",
   "execution_count": 23,
   "metadata": {
    "collapsed": false
   },
   "outputs": [
    {
     "data": {
      "image/png": "[encoded data removed]",
      "text/plain": [
       "<matplotlib.figure.Figure at 0x109f7de90>"
      ]
     },
     "metadata": {},
     "output_type": "display_data"
    }
   ],
   "source": [
    "util.plot_roc(y_test, y_score)"
   ]
  },
  {
   "cell_type": "markdown",
   "metadata": {},
   "source": [
    "### Confusion Matrix"
   ]
  },
  {
   "cell_type": "code",
   "execution_count": 27,
   "metadata": {
    "collapsed": false
   },
   "outputs": [
    {
     "data": {
      "image/png": "[encoded data removed]",
      "text/plain": [
       "<matplotlib.figure.Figure at 0x103de5190>"
      ]
     },
     "metadata": {},
     "output_type": "display_data"
    }
   ],
   "source": [
    "util.plot_confusion_matrix(y_test, y_score)"
   ]
  },
  {
   "cell_type": "markdown",
   "metadata": {
    "collapsed": true
   },
   "source": [
    "## Example: 6 features"
   ]
  },
  {
   "cell_type": "code",
   "execution_count": 24,
   "metadata": {
    "collapsed": false
   },
   "outputs": [],
   "source": [
    "action = [\n",
    "     ('2015-05-19', 1, 'use_app', 1),\n",
    "     ('2015-05-19', 1, 'add_sn', 1),\n",
    "     ('2015-05-19', 2, 'add_sn', 1), \n",
    "     ('2015-05-19', 3, 'add_team', 1),\n",
    "     ('2015-05-19', 2, 'account_age', 7),\n",
    "     ('2015-05-19', 4, 'drop_sn', -1),\n",
    "     ('2015-05-19', 2, 'use_app', 1),\n",
    "     ('2015-05-19', 1, 'add_sn', 1),\n",
    "     ('2015-05-19', 2, 'send_message', 1), \n",
    "     ('2015-05-19', 4, 'add_team', 1),\n",
    "     ('2015-05-19', 2, 'add_sn', 1),\n",
    "     ('2015-05-19', 4, 'account_age', -1),\n",
    "     ('2015-05-19', 2, 'send_message', 1), \n",
    "     ('2015-05-19', 4, 'add_team', 1),\n",
    "     ('2015-05-19', 2, 'add_sn', 1),\n",
    "     ('2015-05-19', 4, 'send_message', 1),\n",
    "     ]\n",
    "\n",
    "churn_7 = [\n",
    "    (1, 0),\n",
    "    (2, 1),\n",
    "    (3, 0),\n",
    "    (4, 0),\n",
    "    ]"
   ]
  },
  {
   "cell_type": "markdown",
   "metadata": {},
   "source": [
    "### Train"
   ]
  },
  {
   "cell_type": "code",
   "execution_count": 25,
   "metadata": {
    "collapsed": false
   },
   "outputs": [
    {
     "name": "stdout",
     "output_type": "stream",
     "text": [
      "[0 1 0 0]\n",
      "[[ 0.  2.  0.  0.  0.  1.]\n",
      " [ 7.  3.  0.  0.  2.  1.]\n",
      " [ 0.  0.  1.  0.  0.  0.]\n",
      " [-1.  0.  2. -1.  1.  0.]]\n",
      ">> coefficients <<\n",
      "[[ 0.57668285 -0.25711866 -0.47711878  0.1051984   0.02951144 -0.16223679]]\n"
     ]
    }
   ],
   "source": [
    "df = pivot(action)\n",
    "df = create_train(df, churn_7)\n",
    "stored_model = train(df)"
   ]
  },
  {
   "cell_type": "markdown",
   "metadata": {},
   "source": [
    "### Predict"
   ]
  },
  {
   "cell_type": "code",
   "execution_count": 26,
   "metadata": {
    "collapsed": false
   },
   "outputs": [
    {
     "name": "stdout",
     "output_type": "stream",
     "text": [
      "[[ 2.  1.  0.  0.  2.  0.]\n",
      " [ 4.  1.  0.  0.  3.  0.]]\n",
      ">> predicted <<\n",
      "[1 1]\n",
      ">> result <<\n",
      "event summary_day  member_id  account_age  add_sn  add_team  drop_sn  send_message  use_app  y\n",
      "0      2015-05-20          5            2       1         0        0             2        0  1\n",
      "1      2015-05-20          6            4       1         0        0             3        0  1\n"
     ]
    }
   ],
   "source": [
    "new_action = [\n",
    "     ('2015-05-20', 5, 'send_message', 1),\n",
    "     ('2015-05-20', 5, 'add_sn', 1),\n",
    "     ('2015-05-20', 5, 'send_message', 1), \n",
    "     ('2015-05-20', 5, 'add_team', 0),\n",
    "     ('2015-05-20', 5, 'account_age', 2),\n",
    "     ('2015-05-20', 5, 'drop_sn', 0),\n",
    "     ('2015-05-20', 5, 'use_app', 0),\n",
    "     ('2015-05-20', 6, 'send_message', 1),\n",
    "     ('2015-05-20', 6, 'send_message', 1),\n",
    "     ('2015-05-20', 6, 'send_message', 1), \n",
    "     ('2015-05-20', 6, 'add_sn', 1),\n",
    "     ('2015-05-20', 6, 'add_team', 0),\n",
    "     ('2015-05-20', 6, 'account_age', 4),\n",
    "     ('2015-05-20', 6, 'drop_sn', 0),\n",
    "     ('2015-05-20', 6, 'use_app', 0),\n",
    "    ]\n",
    "\n",
    "df = pivot(new_action)\n",
    "\n",
    "pk_columns = ['summary_day', 'member_id']\n",
    "\n",
    "X = np.array(df.drop(pk_columns, axis=1, inplace=False))\n",
    "print X\n",
    "\n",
    "df = predict(df, stored_model, X)\n",
    "\n",
    "print \">> result <<\"\n",
    "print df"
   ]
  }
 ],
 "metadata": {
  "kernelspec": {
   "display_name": "Python 2",
   "language": "python",
   "name": "python2"
  },
  "language_info": {
   "codemirror_mode": {
    "name": "ipython",
    "version": 2
   },
   "file_extension": ".py",
   "mimetype": "text/x-python",
   "name": "python",
   "nbconvert_exporter": "python",
   "pygments_lexer": "ipython2",
   "version": "2.7.10"
  },
  "name": "logistic_regression.ipynb"
 },
 "nbformat": 4,
 "nbformat_minor": 0
}
