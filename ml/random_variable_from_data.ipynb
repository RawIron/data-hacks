{
 "cells": [
  {
   "cell_type": "code",
   "execution_count": 95,
   "metadata": {
    "collapsed": true
   },
   "outputs": [],
   "source": [
    "from scipy import stats\n",
    "import numpy as np"
   ]
  },
  {
   "cell_type": "markdown",
   "metadata": {},
   "source": [
    "## Summary\n",
    "\n",
    "* read sample or population data from a feature column of X (later being used in ML)\n",
    "* build the probability distribution and the RV\n",
    "* make it persistent (pickle)\n",
    "* use the persisted RV to test or experiment with different ML algorithms, preprocessing, feature reduction ...\n",
    "\n",
    "* below solutions need QA"
   ]
  },
  {
   "cell_type": "markdown",
   "metadata": {},
   "source": [
    "## Discrete Probability Distribution"
   ]
  },
  {
   "cell_type": "markdown",
   "metadata": {},
   "source": [
    "### Scipy - rv_discrete"
   ]
  },
  {
   "cell_type": "code",
   "execution_count": 116,
   "metadata": {
    "collapsed": true
   },
   "outputs": [],
   "source": [
    "def rv_discrete_dist(sample):\n",
    "    counts, indices = np.histogram(sample, bins=range(sample.min(), sample.max()+1))\n",
    "    counts = counts.astype(np.float64)\n",
    "    weights = counts / np.sum(counts)\n",
    "\n",
    "    non_zero_prob = weights > 0.0\n",
    "    return (indices[non_zero_prob], weights[non_zero_prob]) "
   ]
  },
  {
   "cell_type": "code",
   "execution_count": 117,
   "metadata": {
    "collapsed": false
   },
   "outputs": [],
   "source": [
    "sample = np.random.randint(0, 48, 1000)\n",
    "\n",
    "distrib = stats.rv_discrete(values=rv_discrete_dist(sample))"
   ]
  },
  {
   "cell_type": "code",
   "execution_count": 118,
   "metadata": {
    "collapsed": false
   },
   "outputs": [
    {
     "data": {
      "text/plain": [
       "array([ 2, 22, 34, 31, 36, 29, 13,  1,  5, 31])"
      ]
     },
     "execution_count": 118,
     "metadata": {},
     "output_type": "execute_result"
    }
   ],
   "source": [
    "distrib.rvs(size=10)"
   ]
  },
  {
   "cell_type": "markdown",
   "metadata": {},
   "source": [
    "### Numpy - Random Choice"
   ]
  },
  {
   "cell_type": "code",
   "execution_count": 107,
   "metadata": {
    "collapsed": false
   },
   "outputs": [],
   "source": [
    "def rdf_discrete_from_hist(sample):\n",
    "    values, indices = np.histogram(sample, bins=range(len(sample)))\n",
    "    values = values.astype(np.float64)\n",
    "    weights = values / np.sum(values)\n",
    "\n",
    "    def rvs(sample_size):\n",
    "        return np.random.choice(indices[1:], sample_size, p=weights)\n",
    "    \n",
    "    return rvs"
   ]
  },
  {
   "cell_type": "code",
   "execution_count": 109,
   "metadata": {
    "collapsed": false
   },
   "outputs": [
    {
     "data": {
      "text/plain": [
       "array([ 1, 29, 32, 33, 25, 19, 29, 37, 47, 15])"
      ]
     },
     "execution_count": 109,
     "metadata": {},
     "output_type": "execute_result"
    }
   ],
   "source": [
    "data = np.random.randint(0, 48, 1000)\n",
    "\n",
    "rv = rdf_discrete_from_hist(data)\n",
    "rv(10)"
   ]
  },
  {
   "cell_type": "markdown",
   "metadata": {},
   "source": [
    "#### fixed bins"
   ]
  },
  {
   "cell_type": "code",
   "execution_count": 101,
   "metadata": {
    "collapsed": true
   },
   "outputs": [],
   "source": [
    "def rdf_bins_from_hist(sample):\n",
    "    values, indices = np.histogram(sample, bins=20)\n",
    "    values = values.astype(np.float64)\n",
    "    weights = values / np.sum(values)\n",
    "\n",
    "    def rvs(sample_size):\n",
    "        return np.random.choice(indices[1:], sample_size, p=weights)\n",
    "    \n",
    "    return rvs"
   ]
  },
  {
   "cell_type": "code",
   "execution_count": 102,
   "metadata": {
    "collapsed": false
   },
   "outputs": [
    {
     "name": "stdout",
     "output_type": "stream",
     "text": [
      "[ 0.50095806  0.75028735  0.30149463  0.15189705  0.99961664  0.25162877\n",
      "  0.1020312   0.94975078  0.40122634  0.85001907]\n"
     ]
    }
   ],
   "source": [
    "data = np.random.rand(1000)\n",
    "\n",
    "rv = rdf_bins_from_hist(data)\n",
    "print rv(10)"
   ]
  }
 ],
 "metadata": {
  "kernelspec": {
   "display_name": "Python 2",
   "language": "python",
   "name": "python2"
  },
  "language_info": {
   "codemirror_mode": {
    "name": "ipython",
    "version": 2
   },
   "file_extension": ".py",
   "mimetype": "text/x-python",
   "name": "python",
   "nbconvert_exporter": "python",
   "pygments_lexer": "ipython2",
   "version": "2.7.10"
  }
 },
 "nbformat": 4,
 "nbformat_minor": 0
}
