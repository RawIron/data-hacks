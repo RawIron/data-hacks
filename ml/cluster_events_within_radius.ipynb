{
 "cells": [
  {
   "cell_type": "code",
   "execution_count": 7,
   "metadata": {
    "collapsed": false
   },
   "outputs": [
    {
     "name": "stdout",
     "output_type": "stream",
     "text": [
      "Populating the interactive namespace from numpy and matplotlib\n"
     ]
    }
   ],
   "source": [
    "%pylab inline\n",
    "\n",
    "import pandas as pd"
   ]
  },
  {
   "cell_type": "code",
   "execution_count": 8,
   "metadata": {
    "collapsed": true
   },
   "outputs": [],
   "source": [
    " pd.set_option('display.notebook_repr_html', False)"
   ]
  },
  {
   "cell_type": "markdown",
   "metadata": {},
   "source": [
    "* IPython notebook is one global namespace, use a class to keep namespace cleaner\n",
    "* few globals are used here:\n",
    "    * X_all\n",
    "    * RADIUS"
   ]
  },
  {
   "cell_type": "markdown",
   "metadata": {},
   "source": [
    "# events within a \"radius\""
   ]
  },
  {
   "cell_type": "markdown",
   "metadata": {},
   "source": [
    "* given a series with timestamps of events\n",
    "* find for all members separately all the events that are within a radius\n",
    "* foreach member clean the events found within the radius"
   ]
  },
  {
   "cell_type": "markdown",
   "metadata": {},
   "source": [
    "### test data"
   ]
  },
  {
   "cell_type": "code",
   "execution_count": 9,
   "metadata": {
    "collapsed": false
   },
   "outputs": [
    {
     "data": {
      "text/plain": [
       "     epochtime event  member_id  offset  counter\n",
       "0   1438797641    up          1       0        1\n",
       "1   1438807651  down          1       0        1\n",
       "2   1438907663  down          1       0        1\n",
       "3   1438907633  down          1       0        1\n",
       "4   1438907693  down          1       0        1\n",
       "5   1438907694    up          1       0        1\n",
       "6   1439797999    up          1       0        1\n",
       "7   1438797651    up          2       0        1\n",
       "8   1538807651  down          2       0        1\n",
       "9   1538907663    up          2       0        1\n",
       "10  1538907633    up          2       0        1\n",
       "11  1538907693  down          2       0        1\n",
       "12  1538907695    up          2       0        1\n",
       "13  1539797999  down          2       0        1\n",
       "14  1438797644    up          3       0        1\n",
       "15  1438807654    up          3       0        1\n",
       "16  1438907664  down          3       0        1\n",
       "17  1438907634  down          3       0        1\n",
       "18  1438907694    up          3       0        1\n",
       "19  1438907694    up          3       0        1\n",
       "20  1439797994  down          3       0        1\n",
       "21  1438907665    up          4       0        1"
      ]
     },
     "execution_count": 9,
     "metadata": {},
     "output_type": "execute_result"
    }
   ],
   "source": [
    "class EventStream(object):\n",
    "    data = {'epochtime': [# 1\n",
    "                          # 4 events within 61 sec\n",
    "                          1438797641, 1438807651,\n",
    "                          1438907663, 1438907633, 1438907693, 1438907694,\n",
    "                          1439797999,\n",
    "                          # 2\n",
    "                          # 4 events within 62 sec\n",
    "                          # events are far apart from any other member\n",
    "                          1438797651, 1538807651,\n",
    "                          1538907663, 1538907633, 1538907693, 1538907695,\n",
    "                          1539797999,\n",
    "                          # 3\n",
    "                          # 4 events within 60 sec\n",
    "                          # events are only 1 second apart from member 1\n",
    "                          1438797644, 1438807654,\n",
    "                          1438907664, 1438907634, 1438907694, 1438907694,\n",
    "                          1439797994,\n",
    "                          # 4\n",
    "                          # 1 event in the \"neighborhood of center point\"\n",
    "                          # different member though\n",
    "                          1438907665,\n",
    "                         ],\n",
    "            'event': ['up', 'down', 'down', 'down', 'down', 'up', 'up',\n",
    "                      'up', 'down', 'up', 'up', 'down', 'up', 'down',\n",
    "                      'up', 'up', 'down', 'down', 'up', 'up', 'down',\n",
    "                      'up',\n",
    "                     ],\n",
    "            'member_id': [1]*7 + [2]*7 + [3]*7 + [4]}\n",
    "\n",
    "X_all = pd.DataFrame(EventStream.data)\n",
    "X_all['offset'] = 0\n",
    "X_all['counter'] = 1  # not strictly needed\n",
    "X_all"
   ]
  },
  {
   "cell_type": "markdown",
   "metadata": {},
   "source": [
    "## separate members from each other"
   ]
  },
  {
   "cell_type": "markdown",
   "metadata": {},
   "source": [
    "### groupby and iterate"
   ]
  },
  {
   "cell_type": "markdown",
   "metadata": {},
   "source": [
    "* one solution could be to groupby members\n",
    "* process each member individually"
   ]
  },
  {
   "cell_type": "code",
   "execution_count": 10,
   "metadata": {
    "collapsed": false
   },
   "outputs": [
    {
     "data": {
      "text/plain": [
       "[0, 1, 2, 3, 4, 5, 6]"
      ]
     },
     "execution_count": 10,
     "metadata": {},
     "output_type": "execute_result"
    }
   ],
   "source": [
    "class GroupIterate(object):\n",
    "    members = None\n",
    "    ix = None\n",
    "    X = None\n",
    "gi = GroupIterate()\n",
    "\n",
    "gi.members = X_all.groupby('member_id')\n",
    "gi.ix = gi.members.groups.itervalues().next()\n",
    "gi.ix"
   ]
  },
  {
   "cell_type": "code",
   "execution_count": 11,
   "metadata": {
    "collapsed": false
   },
   "outputs": [
    {
     "data": {
      "text/plain": [
       "   offset   epochtime\n",
       "0       0  1438797641\n",
       "1       0  1438807651\n",
       "2       0  1438907663\n",
       "3       0  1438907633\n",
       "4       0  1438907693\n",
       "5       0  1438907694\n",
       "6       0  1439797999"
      ]
     },
     "execution_count": 11,
     "metadata": {},
     "output_type": "execute_result"
    }
   ],
   "source": [
    "gi.X = X_all.iloc[gi.ix][['offset', 'epochtime']]\n",
    "gi.X"
   ]
  },
  {
   "cell_type": "markdown",
   "metadata": {},
   "source": [
    "### separate members with an offset vector\n",
    "* look at each member individually\n",
    "* find values that are within a given radius for a specific member\n",
    "* values of different members are never within a given radius"
   ]
  },
  {
   "cell_type": "code",
   "execution_count": 12,
   "metadata": {
    "collapsed": false
   },
   "outputs": [],
   "source": [
    "import sklearn.neighbors as neighbors\n",
    "\n",
    "class OffsetVector(object):\n",
    "    RADIUS = 3\n",
    "    data = None\n",
    "    df = None\n",
    "    members = None\n",
    "    idx = None\n",
    "    distance = None\n",
    "\n",
    "ov = OffsetVector()"
   ]
  },
  {
   "cell_type": "code",
   "execution_count": 13,
   "metadata": {
    "collapsed": true
   },
   "outputs": [],
   "source": [
    "ov.data = {'score': [1,2,9,\n",
    "                  2,3,12],\n",
    "        'member': [1]*3 + [2]*3\n",
    "       }\n",
    "\n",
    "ov.df = pd.DataFrame(ov.data)"
   ]
  },
  {
   "cell_type": "markdown",
   "metadata": {},
   "source": [
    "add autoincrement idx to member"
   ]
  },
  {
   "cell_type": "code",
   "execution_count": 14,
   "metadata": {
    "collapsed": false
   },
   "outputs": [
    {
     "data": {
      "text/plain": [
       "   member  idx\n",
       "0       1    0\n",
       "1       2    1"
      ]
     },
     "execution_count": 14,
     "metadata": {},
     "output_type": "execute_result"
    }
   ],
   "source": [
    "ov.members = pd.DataFrame(ov.df['member'].unique(), columns=['member'])\n",
    "ov.members['idx'] = ov.members.index\n",
    "ov.members"
   ]
  },
  {
   "cell_type": "code",
   "execution_count": 15,
   "metadata": {
    "collapsed": false
   },
   "outputs": [
    {
     "data": {
      "text/plain": [
       "   member  score  idx\n",
       "0       1      1    0\n",
       "1       1      2    0\n",
       "2       1      9    0\n",
       "3       2      2    1\n",
       "4       2      3    1\n",
       "5       2     12    1"
      ]
     },
     "execution_count": 15,
     "metadata": {},
     "output_type": "execute_result"
    }
   ],
   "source": [
    "ov.idx = pd.merge(ov.df, ov.members)\n",
    "ov.idx"
   ]
  },
  {
   "cell_type": "markdown",
   "metadata": {},
   "source": [
    "offset members by RADIUS + 1"
   ]
  },
  {
   "cell_type": "code",
   "execution_count": 16,
   "metadata": {
    "collapsed": false
   },
   "outputs": [
    {
     "data": {
      "text/plain": [
       "   member  score  idx  offset\n",
       "0       1      1    0      -1\n",
       "1       1      2    0      -1\n",
       "2       1      9    0      -1\n",
       "3       2      2    1       3\n",
       "4       2      3    1       3\n",
       "5       2     12    1       3"
      ]
     },
     "execution_count": 16,
     "metadata": {},
     "output_type": "execute_result"
    }
   ],
   "source": [
    "ov.idx['offset'] = ov.idx['idx'] * ov.RADIUS + ov.idx['idx'] - 1\n",
    "ov.idx"
   ]
  },
  {
   "cell_type": "code",
   "execution_count": 17,
   "metadata": {
    "collapsed": false
   },
   "outputs": [
    {
     "data": {
      "text/plain": [
       "array([[  0.,   1.,   8.,   5.,   6.,  15.],\n",
       "       [  1.,   0.,   7.,   4.,   5.,  14.],\n",
       "       [  8.,   7.,   0.,  11.,  10.,   7.],\n",
       "       [  5.,   4.,  11.,   0.,   1.,  10.],\n",
       "       [  6.,   5.,  10.,   1.,   0.,   9.],\n",
       "       [ 15.,  14.,   7.,  10.,   9.,   0.]])"
      ]
     },
     "execution_count": 17,
     "metadata": {},
     "output_type": "execute_result"
    }
   ],
   "source": [
    "ov.distance = neighbors.DistanceMetric.get_metric('manhattan')\n",
    "\n",
    "ov.distance.pairwise(ov.idx[['score', 'offset']])"
   ]
  },
  {
   "cell_type": "markdown",
   "metadata": {},
   "source": [
    "## find events within a radius"
   ]
  },
  {
   "cell_type": "code",
   "execution_count": 18,
   "metadata": {
    "collapsed": true
   },
   "outputs": [],
   "source": [
    "RADIUS = 60"
   ]
  },
  {
   "cell_type": "markdown",
   "metadata": {},
   "source": [
    "### nearest neighbors"
   ]
  },
  {
   "cell_type": "markdown",
   "metadata": {},
   "source": [
    "* use a nearest neighbor algorithm\n",
    "* distance function of neighbor algorithm needs (x,y)\n",
    "* insert x=offset column"
   ]
  },
  {
   "cell_type": "code",
   "execution_count": 19,
   "metadata": {
    "collapsed": true
   },
   "outputs": [],
   "source": [
    "import sklearn.neighbors as neighbors\n",
    "\n",
    "class NearestNeighbor(object):\n",
    "    members = None\n",
    "    X = None\n",
    "\n",
    "nn = NearestNeighbor()"
   ]
  },
  {
   "cell_type": "code",
   "execution_count": 20,
   "metadata": {
    "collapsed": false
   },
   "outputs": [
    {
     "data": {
      "text/plain": [
       "     epochtime event  member_id  offset  counter  member_idx\n",
       "0   1438797641    up          1      -1        1           0\n",
       "1   1438807651  down          1      -1        1           0\n",
       "2   1438907663  down          1      -1        1           0\n",
       "3   1438907633  down          1      -1        1           0\n",
       "4   1438907693  down          1      -1        1           0\n",
       "5   1438907694    up          1      -1        1           0\n",
       "6   1439797999    up          1      -1        1           0\n",
       "7   1438797651    up          2      60        1           1\n",
       "8   1538807651  down          2      60        1           1\n",
       "9   1538907663    up          2      60        1           1\n",
       "10  1538907633    up          2      60        1           1\n",
       "11  1538907693  down          2      60        1           1\n",
       "12  1538907695    up          2      60        1           1\n",
       "13  1539797999  down          2      60        1           1\n",
       "14  1438797644    up          3     121        1           2\n",
       "15  1438807654    up          3     121        1           2\n",
       "16  1438907664  down          3     121        1           2\n",
       "17  1438907634  down          3     121        1           2\n",
       "18  1438907694    up          3     121        1           2\n",
       "19  1438907694    up          3     121        1           2\n",
       "20  1439797994  down          3     121        1           2\n",
       "21  1438907665    up          4     182        1           3"
      ]
     },
     "execution_count": 20,
     "metadata": {},
     "output_type": "execute_result"
    }
   ],
   "source": [
    "nn.members = pd.DataFrame(X_all['member_id'].unique(), columns=['member_id'])\n",
    "nn.members['member_idx'] = nn.members.index\n",
    "\n",
    "X_all = pd.merge(X_all, nn.members)\n",
    "\n",
    "X_all['offset'] = X_all['member_idx'] * RADIUS + X_all['member_idx'] - 1\n",
    "X_all"
   ]
  },
  {
   "cell_type": "code",
   "execution_count": 21,
   "metadata": {
    "collapsed": true
   },
   "outputs": [],
   "source": [
    "nn.X = X_all[['epochtime', 'offset']]"
   ]
  },
  {
   "cell_type": "markdown",
   "metadata": {},
   "source": [
    "* create the k-d tree"
   ]
  },
  {
   "cell_type": "code",
   "execution_count": 22,
   "metadata": {
    "collapsed": false
   },
   "outputs": [
    {
     "data": {
      "text/plain": [
       "<sklearn.neighbors.kd_tree.BinaryTree at 0x7ff3fbc0e640>"
      ]
     },
     "execution_count": 22,
     "metadata": {},
     "output_type": "execute_result"
    }
   ],
   "source": [
    "class NNTree(object):\n",
    "    kd = None\n",
    "    dist = None\n",
    "    ix = None\n",
    "    events_in_radius = None\n",
    "tree = NNTree()\n",
    "\n",
    "tree.kd = neighbors.KDTree(nn.X, leaf_size=1, metric='manhattan')\n",
    "tree.kd"
   ]
  },
  {
   "cell_type": "markdown",
   "metadata": {},
   "source": [
    "* take a look at the distances\n",
    "* what is the nearest neighbor to event at pos=0?"
   ]
  },
  {
   "cell_type": "code",
   "execution_count": 23,
   "metadata": {
    "collapsed": false
   },
   "outputs": [
    {
     "data": {
      "text/plain": [
       "(array([[  0.,  71.]]), array([[0, 7]]))"
      ]
     },
     "execution_count": 23,
     "metadata": {},
     "output_type": "execute_result"
    }
   ],
   "source": [
    "tree.dist, tree.ix = tree.kd.query(nn.X.iloc[0], k=2)\n",
    "tree.dist, tree.ix"
   ]
  },
  {
   "cell_type": "markdown",
   "metadata": {},
   "source": [
    "* find the timestamps that are within a given radius\n",
    "* value of radius depends on distance function"
   ]
  },
  {
   "cell_type": "code",
   "execution_count": 24,
   "metadata": {
    "collapsed": false
   },
   "outputs": [
    {
     "data": {
      "text/plain": [
       "array([array([0]), array([1]), array([3, 2, 4, 5]), array([3, 2, 4]),\n",
       "       array([3, 2, 4, 5]), array([2, 4, 5]), array([6]), array([7]),\n",
       "       array([8]), array([10,  9, 11, 12]), array([10,  9, 11]),\n",
       "       array([10,  9, 11, 12]), array([ 9, 11, 12]), array([13]),\n",
       "       array([14]), array([15]), array([16, 17, 19, 18]),\n",
       "       array([16, 17, 19, 18]), array([16, 17, 19, 18]),\n",
       "       array([16, 17, 19, 18]), array([20]), array([21])], dtype=object)"
      ]
     },
     "execution_count": 24,
     "metadata": {},
     "output_type": "execute_result"
    }
   ],
   "source": [
    "tree.events_in_radius = tree.kd.query_radius(nn.X, r=RADIUS)\n",
    "tree.events_in_radius"
   ]
  },
  {
   "cell_type": "markdown",
   "metadata": {},
   "source": [
    "#### extract clusters\n",
    "* only keep the supersets"
   ]
  },
  {
   "cell_type": "code",
   "execution_count": 25,
   "metadata": {
    "collapsed": true
   },
   "outputs": [],
   "source": [
    "class NNCluster(object):\n",
    "    in_radius = None\n",
    "    supersets = None\n",
    "    only_supersets = None\n",
    "    min_sets = None\n",
    "    raw_ix = None\n",
    "    neighbor_ix = None\n",
    "    neighbor_mask = None\n",
    "    multi_events = None\n",
    "\n",
    "nnc = NNCluster()"
   ]
  },
  {
   "cell_type": "code",
   "execution_count": 26,
   "metadata": {
    "collapsed": false
   },
   "outputs": [
    {
     "data": {
      "text/plain": [
       "array([ True,  True,  True, False,  True, False,  True,  True,  True,\n",
       "        True, False,  True, False,  True,  True,  True,  True,  True,\n",
       "        True,  True,  True,  True], dtype=bool)"
      ]
     },
     "execution_count": 26,
     "metadata": {},
     "output_type": "execute_result"
    }
   ],
   "source": [
    "nnc.in_radius = [set(e) for e in tree.events_in_radius]\n",
    "\n",
    "nnc.supersets = np.vectorize(lambda x: not any([x.issubset(e) for e in nnc.in_radius if not e == x]))\n",
    "nnc.only_supersets = nnc.supersets(nnc.in_radius)\n",
    "nnc.only_supersets"
   ]
  },
  {
   "cell_type": "code",
   "execution_count": 27,
   "metadata": {
    "collapsed": false
   },
   "outputs": [
    {
     "data": {
      "text/plain": [
       "array([array([0]), array([1]), array([3, 2, 4, 5]), array([3, 2, 4, 5]),\n",
       "       array([6]), array([7]), array([8]), array([10,  9, 11, 12]),\n",
       "       array([10,  9, 11, 12]), array([13]), array([14]), array([15]),\n",
       "       array([16, 17, 19, 18]), array([16, 17, 19, 18]),\n",
       "       array([16, 17, 19, 18]), array([16, 17, 19, 18]), array([20]),\n",
       "       array([21])], dtype=object)"
      ]
     },
     "execution_count": 27,
     "metadata": {},
     "output_type": "execute_result"
    }
   ],
   "source": [
    "nnc.min_sets = tree.events_in_radius[nnc.only_supersets]\n",
    "nnc.min_sets"
   ]
  },
  {
   "cell_type": "markdown",
   "metadata": {},
   "source": [
    "* only interested in the nnc with more than 1 element"
   ]
  },
  {
   "cell_type": "code",
   "execution_count": 28,
   "metadata": {
    "collapsed": false
   },
   "outputs": [
    {
     "data": {
      "text/plain": [
       "array([array([3, 2, 4, 5]), array([3, 2, 4, 5]), array([10,  9, 11, 12]),\n",
       "       array([10,  9, 11, 12]), array([16, 17, 19, 18]),\n",
       "       array([16, 17, 19, 18]), array([16, 17, 19, 18]),\n",
       "       array([16, 17, 19, 18])], dtype=object)"
      ]
     },
     "execution_count": 28,
     "metadata": {},
     "output_type": "execute_result"
    }
   ],
   "source": [
    "is_multi = np.vectorize(lambda x: len(x) > 1)\n",
    "nnc.raw_ix = nnc.min_sets[is_multi(nnc.min_sets)]\n",
    "nnc.raw_ix"
   ]
  },
  {
   "cell_type": "markdown",
   "metadata": {},
   "source": [
    "* only keep unique rows\n",
    "* too narrow, can be less strict: only keep unique indexes\n",
    "    * actually not correct: have to keep the \"cluster id\"\n",
    "    * \"cluster id\" is required to only remove redundant payment per \"cluster\"\n",
    "    * one member can have many \"nnc\""
   ]
  },
  {
   "cell_type": "code",
   "execution_count": 29,
   "metadata": {
    "collapsed": false
   },
   "outputs": [
    {
     "data": {
      "text/plain": [
       "array([[10,  9, 11, 12],\n",
       "       [16, 17, 19, 18],\n",
       "       [ 3,  2,  4,  5]])"
      ]
     },
     "execution_count": 29,
     "metadata": {},
     "output_type": "execute_result"
    }
   ],
   "source": [
    "np.vstack({tuple(row) for row in nnc.raw_ix})"
   ]
  },
  {
   "cell_type": "markdown",
   "metadata": {},
   "source": [
    "* raw_ix is not a multi-dim ndarray\n",
    "* default flatten does not work"
   ]
  },
  {
   "cell_type": "code",
   "execution_count": 30,
   "metadata": {
    "collapsed": false
   },
   "outputs": [
    {
     "data": {
      "text/plain": [
       "array([array([3, 2, 4, 5]), array([3, 2, 4, 5]), array([10,  9, 11, 12]),\n",
       "       array([10,  9, 11, 12]), array([16, 17, 19, 18]),\n",
       "       array([16, 17, 19, 18]), array([16, 17, 19, 18]),\n",
       "       array([16, 17, 19, 18])], dtype=object)"
      ]
     },
     "execution_count": 30,
     "metadata": {},
     "output_type": "execute_result"
    }
   ],
   "source": [
    "nnc.raw_ix.reshape(-1)"
   ]
  },
  {
   "cell_type": "code",
   "execution_count": 31,
   "metadata": {
    "collapsed": false
   },
   "outputs": [
    {
     "data": {
      "text/plain": [
       "(8,)"
      ]
     },
     "execution_count": 31,
     "metadata": {},
     "output_type": "execute_result"
    }
   ],
   "source": [
    "nnc.raw_ix.shape"
   ]
  },
  {
   "cell_type": "markdown",
   "metadata": {},
   "source": [
    "* flatten a numpy array of dtype object\n",
    "* \"cluster id\" is lost in this step\n",
    "    * for member with more than one \"cluster\" events are lost"
   ]
  },
  {
   "cell_type": "code",
   "execution_count": 32,
   "metadata": {
    "collapsed": false
   },
   "outputs": [
    {
     "data": {
      "text/plain": [
       "array([ 3,  2,  4,  5,  3,  2,  4,  5, 10,  9, 11, 12, 10,  9, 11, 12, 16,\n",
       "       17, 19, 18, 16, 17, 19, 18, 16, 17, 19, 18, 16, 17, 19, 18])"
      ]
     },
     "execution_count": 32,
     "metadata": {},
     "output_type": "execute_result"
    }
   ],
   "source": [
    "np.hstack(nnc.raw_ix.flat)"
   ]
  },
  {
   "cell_type": "code",
   "execution_count": 33,
   "metadata": {
    "collapsed": false
   },
   "outputs": [
    {
     "data": {
      "text/plain": [
       "array([ 2,  3,  4,  5,  9, 10, 11, 12, 16, 17, 18, 19])"
      ]
     },
     "execution_count": 33,
     "metadata": {},
     "output_type": "execute_result"
    }
   ],
   "source": [
    "nnc.neighbor_ix = np.unique(np.hstack(nnc.raw_ix.flat))\n",
    "nnc.neighbor_ix"
   ]
  },
  {
   "cell_type": "code",
   "execution_count": 34,
   "metadata": {
    "collapsed": false
   },
   "outputs": [
    {
     "data": {
      "text/plain": [
       "array([False, False,  True,  True,  True,  True, False, False, False,\n",
       "        True,  True,  True,  True, False, False, False,  True,  True,\n",
       "        True,  True, False, False], dtype=bool)"
      ]
     },
     "execution_count": 34,
     "metadata": {},
     "output_type": "execute_result"
    }
   ],
   "source": [
    "nnc.neighbor_mask = X_all.index.isin(nnc.neighbor_ix)\n",
    "nnc.neighbor_mask"
   ]
  },
  {
   "cell_type": "markdown",
   "metadata": {},
   "source": [
    "### read data within neighborhood"
   ]
  },
  {
   "cell_type": "markdown",
   "metadata": {},
   "source": [
    "* read the multi events from X using the indexes of the \"nnc\""
   ]
  },
  {
   "cell_type": "code",
   "execution_count": 35,
   "metadata": {
    "collapsed": false
   },
   "outputs": [
    {
     "data": {
      "text/plain": [
       "     epochtime event  member_id  offset  counter  member_idx\n",
       "2   1438907663  down          1      -1        1           0\n",
       "3   1438907633  down          1      -1        1           0\n",
       "4   1438907693  down          1      -1        1           0\n",
       "5   1438907694    up          1      -1        1           0\n",
       "9   1538907663    up          2      60        1           1\n",
       "10  1538907633    up          2      60        1           1\n",
       "11  1538907693  down          2      60        1           1\n",
       "12  1538907695    up          2      60        1           1\n",
       "16  1438907664  down          3     121        1           2\n",
       "17  1438907634  down          3     121        1           2\n",
       "18  1438907694    up          3     121        1           2\n",
       "19  1438907694    up          3     121        1           2"
      ]
     },
     "execution_count": 35,
     "metadata": {},
     "output_type": "execute_result"
    }
   ],
   "source": [
    "nnc.multi_events = X_all.iloc[nnc.neighbor_ix]\n",
    "nnc.multi_events"
   ]
  },
  {
   "cell_type": "markdown",
   "metadata": {},
   "source": [
    "### clustering"
   ]
  },
  {
   "cell_type": "code",
   "execution_count": 36,
   "metadata": {
    "collapsed": true
   },
   "outputs": [],
   "source": [
    "import sklearn.cluster as cluster\n",
    "\n",
    "class SpatialCluster(object):\n",
    "    X = None\n",
    "    cluster = None\n",
    "    neighbor_ix = None\n",
    "    neighbor_mask = None\n",
    "    multi_events = None\n",
    "    \n",
    "sc = SpatialCluster()"
   ]
  },
  {
   "cell_type": "code",
   "execution_count": 37,
   "metadata": {
    "collapsed": false
   },
   "outputs": [
    {
     "data": {
      "text/plain": [
       "     epochtime  offset\n",
       "0   1438797641      -1\n",
       "1   1438807651      -1\n",
       "2   1438907663      -1\n",
       "3   1438907633      -1\n",
       "4   1438907693      -1\n",
       "5   1438907694      -1\n",
       "6   1439797999      -1\n",
       "7   1438797651      60\n",
       "8   1538807651      60\n",
       "9   1538907663      60\n",
       "10  1538907633      60\n",
       "11  1538907693      60\n",
       "12  1538907695      60\n",
       "13  1539797999      60\n",
       "14  1438797644     121\n",
       "15  1438807654     121\n",
       "16  1438907664     121\n",
       "17  1438907634     121\n",
       "18  1438907694     121\n",
       "19  1438907694     121\n",
       "20  1439797994     121\n",
       "21  1438907665     182"
      ]
     },
     "execution_count": 37,
     "metadata": {},
     "output_type": "execute_result"
    }
   ],
   "source": [
    "sc.X = X_all[['epochtime', 'offset']]\n",
    "sc.X"
   ]
  },
  {
   "cell_type": "code",
   "execution_count": 38,
   "metadata": {
    "collapsed": false
   },
   "outputs": [
    {
     "data": {
      "text/plain": [
       "0             0\n",
       "1         10010\n",
       "2        110022\n",
       "3        109992\n",
       "4        110052\n",
       "5        110053\n",
       "6       1000358\n",
       "7            10\n",
       "8     100010010\n",
       "9     100110022\n",
       "10    100109992\n",
       "11    100110052\n",
       "12    100110054\n",
       "13    101000358\n",
       "14            3\n",
       "15        10013\n",
       "16       110023\n",
       "17       109993\n",
       "18       110053\n",
       "19       110053\n",
       "20      1000353\n",
       "21       110024\n",
       "Name: epochtime, dtype: int64"
      ]
     },
     "execution_count": 38,
     "metadata": {},
     "output_type": "execute_result"
    }
   ],
   "source": [
    "sc.X.epochtime - sc.X.epochtime.min()"
   ]
  },
  {
   "cell_type": "code",
   "execution_count": 39,
   "metadata": {
    "collapsed": false
   },
   "outputs": [
    {
     "data": {
      "text/plain": [
       "DBSCAN(algorithm='auto', eps=60, leaf_size=2, metric='manhattan',\n",
       "    min_samples=2, p=None, random_state=None)"
      ]
     },
     "execution_count": 39,
     "metadata": {},
     "output_type": "execute_result"
    }
   ],
   "source": [
    "sc.cluster = cluster.DBSCAN(eps=RADIUS, min_samples=2, metric='manhattan', leaf_size=2)\n",
    "sc.cluster.fit(np.array(sc.X, dtype=float))"
   ]
  },
  {
   "cell_type": "code",
   "execution_count": 40,
   "metadata": {
    "collapsed": false
   },
   "outputs": [
    {
     "data": {
      "text/plain": [
       "array([-1, -1,  2,  2,  2,  2, -1, -1, -1,  1,  1,  1,  1, -1, -1, -1,  0,\n",
       "        0,  0,  0, -1, -1])"
      ]
     },
     "execution_count": 40,
     "metadata": {},
     "output_type": "execute_result"
    }
   ],
   "source": [
    "sc.cluster.labels_"
   ]
  },
  {
   "cell_type": "code",
   "execution_count": 41,
   "metadata": {
    "collapsed": false
   },
   "outputs": [
    {
     "data": {
      "text/plain": [
       "array([False, False,  True,  True,  True,  True, False, False, False,\n",
       "        True,  True,  True,  True, False, False, False,  True,  True,\n",
       "        True,  True, False, False], dtype=bool)"
      ]
     },
     "execution_count": 41,
     "metadata": {},
     "output_type": "execute_result"
    }
   ],
   "source": [
    "sc.neighbor_mask = np.zeros_like(sc.cluster.labels_, dtype=bool)\n",
    "sc.neighbor_mask[sc.cluster.core_sample_indices_] = True\n",
    "sc.neighbor_mask"
   ]
  },
  {
   "cell_type": "code",
   "execution_count": 42,
   "metadata": {
    "collapsed": true
   },
   "outputs": [],
   "source": [
    "sc.neighbor_ix = X_all[sc.neighbor_mask].index.tolist()\n",
    "X_all['cluster_id'] = sc.cluster.labels_"
   ]
  },
  {
   "cell_type": "markdown",
   "metadata": {},
   "source": [
    "### read data within neighborhood"
   ]
  },
  {
   "cell_type": "code",
   "execution_count": 43,
   "metadata": {
    "collapsed": false
   },
   "outputs": [
    {
     "data": {
      "text/plain": [
       "     epochtime event  member_id  offset  counter  member_idx  cluster_id\n",
       "2   1438907663  down          1      -1        1           0           2\n",
       "3   1438907633  down          1      -1        1           0           2\n",
       "4   1438907693  down          1      -1        1           0           2\n",
       "5   1438907694    up          1      -1        1           0           2\n",
       "9   1538907663    up          2      60        1           1           1\n",
       "10  1538907633    up          2      60        1           1           1\n",
       "11  1538907693  down          2      60        1           1           1\n",
       "12  1538907695    up          2      60        1           1           1\n",
       "16  1438907664  down          3     121        1           2           0\n",
       "17  1438907634  down          3     121        1           2           0\n",
       "18  1438907694    up          3     121        1           2           0\n",
       "19  1438907694    up          3     121        1           2           0"
      ]
     },
     "execution_count": 43,
     "metadata": {},
     "output_type": "execute_result"
    }
   ],
   "source": [
    "sc.multi_events = X_all[sc.neighbor_mask]\n",
    "sc.multi_events"
   ]
  },
  {
   "cell_type": "markdown",
   "metadata": {},
   "source": [
    "## process multi events: majority wins"
   ]
  },
  {
   "cell_type": "markdown",
   "metadata": {},
   "source": [
    "* remove redundant change_plan events foreach member\n",
    "* keep the latest"
   ]
  },
  {
   "cell_type": "code",
   "execution_count": 44,
   "metadata": {
    "collapsed": true
   },
   "outputs": [],
   "source": [
    "# pick from where to read the result\n",
    "# sc = spatial cluster\n",
    "# nn = nearest neighbor\n",
    "pme = sc"
   ]
  },
  {
   "cell_type": "code",
   "execution_count": 45,
   "metadata": {
    "collapsed": false
   },
   "outputs": [
    {
     "data": {
      "text/plain": [
       "   member_id  cluster_id event  counter   epochtime\n",
       "0          1           2  down        3  1438907693\n",
       "1          1           2    up        1  1438907694\n",
       "2          2           1  down        1  1538907693\n",
       "3          2           1    up        3  1538907695\n",
       "4          3           0  down        2  1438907664\n",
       "5          3           0    up        2  1438907694"
      ]
     },
     "execution_count": 45,
     "metadata": {},
     "output_type": "execute_result"
    }
   ],
   "source": [
    "agg = pme.multi_events.groupby(['member_id', 'cluster_id', 'event'], as_index=False).agg({'counter': np.sum,\n",
    "                                                                                          'epochtime': np.max})\n",
    "agg"
   ]
  },
  {
   "cell_type": "code",
   "execution_count": 46,
   "metadata": {
    "collapsed": false
   },
   "outputs": [
    {
     "data": {
      "text/plain": [
       "0    3\n",
       "1    3\n",
       "2    3\n",
       "3    3\n",
       "4    1\n",
       "5    2\n",
       "Name: counter, dtype: int64"
      ]
     },
     "execution_count": 46,
     "metadata": {},
     "output_type": "execute_result"
    }
   ],
   "source": [
    "def majority_rule(x):\n",
    "    if len(x[x == x.max()]) == 1:\n",
    "        # max is unique\n",
    "        return x.max()\n",
    "    else:\n",
    "        # tie-break\n",
    "        x.ix[x.argmax()] -= 1\n",
    "        return x\n",
    "\n",
    "agg.groupby(['member_id', 'cluster_id'])['counter'].transform(majority_rule)"
   ]
  },
  {
   "cell_type": "code",
   "execution_count": 47,
   "metadata": {
    "collapsed": false
   },
   "outputs": [
    {
     "data": {
      "text/plain": [
       "   member_id  cluster_id event  counter   epochtime\n",
       "0          1           2  down        3  1438907693\n",
       "3          2           1    up        3  1538907695\n",
       "5          3           0    up        2  1438907694"
      ]
     },
     "execution_count": 47,
     "metadata": {},
     "output_type": "execute_result"
    }
   ],
   "source": [
    "agg[agg['counter'] == agg.groupby(['member_id', 'cluster_id'])['counter'].transform(majority_rule)]"
   ]
  },
  {
   "cell_type": "code",
   "execution_count": 48,
   "metadata": {
    "collapsed": false
   },
   "outputs": [
    {
     "data": {
      "text/plain": [
       "   member_id  cluster_id event  counter   epochtime\n",
       "0          1           2  down        3  1438907693\n",
       "3          2           1    up        3  1538907695\n",
       "4          3           0  down        2  1438907664\n",
       "5          3           0    up        2  1438907694"
      ]
     },
     "execution_count": 48,
     "metadata": {},
     "output_type": "execute_result"
    }
   ],
   "source": [
    "agg[agg['counter'] == agg.groupby(['member_id', 'cluster_id']).transform(max)['counter']]"
   ]
  },
  {
   "cell_type": "markdown",
   "metadata": {},
   "source": [
    "### read data for the \"noise\""
   ]
  },
  {
   "cell_type": "markdown",
   "metadata": {},
   "source": [
    "* read the single change_plan from X"
   ]
  },
  {
   "cell_type": "code",
   "execution_count": 49,
   "metadata": {
    "collapsed": false
   },
   "outputs": [
    {
     "data": {
      "text/plain": [
       "Int64Index([0, 1, 6, 7, 8, 13, 14, 15, 20, 21], dtype='int64')"
      ]
     },
     "execution_count": 49,
     "metadata": {},
     "output_type": "execute_result"
    }
   ],
   "source": [
    "single_ix = np.delete(X_all.index, pme.neighbor_ix, None)\n",
    "single_ix"
   ]
  },
  {
   "cell_type": "code",
   "execution_count": 50,
   "metadata": {
    "collapsed": false
   },
   "outputs": [
    {
     "data": {
      "text/plain": [
       "     epochtime event  member_id  offset  counter  member_idx  cluster_id\n",
       "0   1438797641    up          1      -1        1           0          -1\n",
       "1   1438807651  down          1      -1        1           0          -1\n",
       "6   1439797999    up          1      -1        1           0          -1\n",
       "7   1438797651    up          2      60        1           1          -1\n",
       "8   1538807651  down          2      60        1           1          -1\n",
       "13  1539797999  down          2      60        1           1          -1\n",
       "14  1438797644    up          3     121        1           2          -1\n",
       "15  1438807654    up          3     121        1           2          -1\n",
       "20  1439797994  down          3     121        1           2          -1\n",
       "21  1438907665    up          4     182        1           3          -1"
      ]
     },
     "execution_count": 50,
     "metadata": {},
     "output_type": "execute_result"
    }
   ],
   "source": [
    "X_all.iloc[single_ix]"
   ]
  }
 ],
 "metadata": {
  "kernelspec": {
   "display_name": "Python 2",
   "language": "python",
   "name": "python2"
  },
  "language_info": {
   "codemirror_mode": {
    "name": "ipython",
    "version": 2
   },
   "file_extension": ".py",
   "mimetype": "text/x-python",
   "name": "python",
   "nbconvert_exporter": "python",
   "pygments_lexer": "ipython2",
   "version": "2.7.10"
  }
 },
 "nbformat": 4,
 "nbformat_minor": 0
}
