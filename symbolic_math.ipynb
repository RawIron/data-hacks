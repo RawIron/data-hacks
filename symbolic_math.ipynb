{
 "cells": [
  {
   "cell_type": "code",
   "execution_count": 69,
   "metadata": {
    "collapsed": false
   },
   "outputs": [
    {
     "name": "stdout",
     "output_type": "stream",
     "text": [
      "Populating the interactive namespace from numpy and matplotlib\n"
     ]
    }
   ],
   "source": [
    "%pylab inline"
   ]
  },
  {
   "cell_type": "code",
   "execution_count": 211,
   "metadata": {
    "collapsed": false
   },
   "outputs": [
    {
     "data": {
      "image/png": "[encoded data removed]",
      "text/latex": [
       "$$x^{4} - 4 x^{3} + 6 x^{2} - 4 x + 1$$"
      ],
      "text/plain": [
       " 4      3      2          \n",
       "x  - 4⋅x  + 6⋅x  - 4⋅x + 1"
      ]
     },
     "execution_count": 211,
     "metadata": {},
     "output_type": "execute_result"
    }
   ],
   "source": [
    "init_printing(use_unicode=True)\n",
    "\n",
    "\n",
    "x = symbols('x')\n",
    "\n",
    "expr = (x-1)**4\n",
    "expand(expr)"
   ]
  },
  {
   "cell_type": "code",
   "execution_count": 222,
   "metadata": {
    "collapsed": false
   },
   "outputs": [
    {
     "data": {
      "image/png": "[encoded data removed]",
      "text/latex": [
       "$$256$$"
      ],
      "text/plain": [
       "256"
      ]
     },
     "execution_count": 222,
     "metadata": {},
     "output_type": "execute_result"
    }
   ],
   "source": [
    "f = x**4\n",
    "pfunc = lambdify(x, f, 'numpy')\n",
    "pfunc(4)"
   ]
  },
  {
   "cell_type": "code",
   "execution_count": 221,
   "metadata": {
    "collapsed": false
   },
   "outputs": [
    {
     "data": {
      "image/png": "[encoded data removed]",
      "text/latex": [
       "$$x^{4}$$"
      ],
      "text/plain": [
       " 4\n",
       "x "
      ]
     },
     "execution_count": 221,
     "metadata": {},
     "output_type": "execute_result"
    }
   ],
   "source": [
    "f = x**4\n",
    "factor(f)"
   ]
  },
  {
   "cell_type": "code",
   "execution_count": 220,
   "metadata": {
    "collapsed": false
   },
   "outputs": [
    {
     "data": {
      "image/png": "[encoded data removed]",
      "text/latex": [
       "$$4 x^{3} - 6 x^{2} + 4 x - 1$$"
      ],
      "text/plain": [
       "   3      2          \n",
       "4⋅x  - 6⋅x  + 4⋅x - 1"
      ]
     },
     "execution_count": 220,
     "metadata": {},
     "output_type": "execute_result"
    }
   ],
   "source": [
    "f = x**4\n",
    "simple = simplify(f - f.subs(x, x-1))\n",
    "expand(simple)"
   ]
  },
  {
   "cell_type": "code",
   "execution_count": 214,
   "metadata": {
    "collapsed": false
   },
   "outputs": [
    {
     "data": {
      "image/png": "[encoded data removed]",
      "text/latex": [
       "$$256$$"
      ],
      "text/plain": [
       "256"
      ]
     },
     "execution_count": 214,
     "metadata": {},
     "output_type": "execute_result"
    }
   ],
   "source": [
    "f = x**4\n",
    "f.subs(x, 4)"
   ]
  },
  {
   "cell_type": "code",
   "execution_count": 227,
   "metadata": {
    "collapsed": false
   },
   "outputs": [
    {
     "data": {
      "image/png": "[encoded data removed]",
      "text/latex": [
       "$$\\frac{3}{4}$$"
      ],
      "text/plain": [
       "3/4"
      ]
     },
     "execution_count": 227,
     "metadata": {},
     "output_type": "execute_result"
    }
   ],
   "source": [
    "# 2/(2/(3/4))\n",
    "a = Rational(2, Rational(2, Rational(3, 4)))\n",
    "a"
   ]
  },
  {
   "cell_type": "code",
   "execution_count": 225,
   "metadata": {
    "collapsed": false
   },
   "outputs": [
    {
     "data": {
      "image/png": "[encoded data removed]",
      "text/latex": [
       "$$2$$"
      ],
      "text/plain": [
       "2"
      ]
     },
     "execution_count": 225,
     "metadata": {},
     "output_type": "execute_result"
    }
   ],
   "source": [
    "b = Rational(1, Rational(1, 2))\n",
    "b"
   ]
  },
  {
   "cell_type": "code",
   "execution_count": 210,
   "metadata": {
    "collapsed": false
   },
   "outputs": [
    {
     "data": {
      "image/png": "[encoded data removed]",
      "text/latex": [
       "$$\\frac{2 \\sqrt{2}}{\\sqrt{\\pi}} \\left(- \\frac{\\sqrt{2} \\sqrt{\\pi}}{8} \\operatorname{erf}{\\left (4 \\sqrt{2} \\right )} + \\frac{\\sqrt{2} \\sqrt{\\pi}}{8}\\right)$$"
      ],
      "text/plain": [
       "        ⎛    ___   ___    ⎛    ___⎞     ___   ___⎞\n",
       "    ___ ⎜  ╲╱ 2 ⋅╲╱ π ⋅erf⎝4⋅╲╱ 2 ⎠   ╲╱ 2 ⋅╲╱ π ⎟\n",
       "2⋅╲╱ 2 ⋅⎜- ──────────────────────── + ───────────⎟\n",
       "        ⎝             8                    8     ⎠\n",
       "──────────────────────────────────────────────────\n",
       "                        ___                       \n",
       "                      ╲╱ π                        "
      ]
     },
     "execution_count": 210,
     "metadata": {},
     "output_type": "execute_result"
    }
   ],
   "source": [
    "from sympy import log, exp, sqrt, pi\n",
    "\n",
    "r = symbols('r')\n",
    "\n",
    "normal = 1/(sqrt(2*pi)) * exp(-r**2/2)\n",
    "Integral(normal, r)\n",
    "\n",
    "integrate(normal, (r, 8, oo))"
   ]
  }
 ],
 "metadata": {
  "kernelspec": {
   "display_name": "Python 2",
   "language": "python",
   "name": "python2"
  },
  "language_info": {
   "codemirror_mode": {
    "name": "ipython",
    "version": 2
   },
   "file_extension": ".py",
   "mimetype": "text/x-python",
   "name": "python",
   "nbconvert_exporter": "python",
   "pygments_lexer": "ipython2",
   "version": "2.7.6"
  }
 },
 "nbformat": 4,
 "nbformat_minor": 0
}
