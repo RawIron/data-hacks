{
 "cells": [
  {
   "cell_type": "code",
   "execution_count": 69,
   "metadata": {
    "collapsed": false
   },
   "outputs": [
    {
     "name": "stdout",
     "output_type": "stream",
     "text": [
      "Populating the interactive namespace from numpy and matplotlib\n"
     ]
    }
   ],
   "source": [
    "%pylab inline"
   ]
  },
  {
   "cell_type": "code",
   "execution_count": 202,
   "metadata": {
    "collapsed": false
   },
   "outputs": [
    {
     "name": "stdout",
     "output_type": "stream",
     "text": [
      "256\n"
     ]
    },
    {
     "data": {
      "image/png": "[encoded data removed]",
      "text/latex": [
       "$$256$$"
      ],
      "text/plain": [
       "256"
      ]
     },
     "execution_count": 202,
     "metadata": {},
     "output_type": "execute_result"
    }
   ],
   "source": [
    "init_printing(use_unicode=True)\n",
    "\n",
    "\n",
    "x = symbols('x')\n",
    "\n",
    "expr = (x-1)**4\n",
    "expand(expr)\n",
    "\n",
    "f = x**4\n",
    "factor(f)\n",
    "\n",
    "simple = simplify(f - f.subs(x, x-1))\n",
    "expand(simple)\n",
    "\n",
    "pprint(f.subs(x, 4))\n",
    "\n",
    "pfunc = lambdify(x, f, 'numpy')\n",
    "pfunc(4)"
   ]
  },
  {
   "cell_type": "code",
   "execution_count": 130,
   "metadata": {
    "collapsed": false
   },
   "outputs": [
    {
     "name": "stdout",
     "output_type": "stream",
     "text": [
      "3/4\n",
      "2\n"
     ]
    }
   ],
   "source": [
    "# 2/(2/(3/4))\n",
    "a = Rational(2, Rational(2, Rational(3, 4)))\n",
    "pprint(a)\n",
    "\n",
    "b = Rational(1, Rational(1, 2))\n",
    "pprint(b)"
   ]
  },
  {
   "cell_type": "code",
   "execution_count": 210,
   "metadata": {
    "collapsed": false
   },
   "outputs": [
    {
     "data": {
      "image/png": "[encoded data removed]",
      "text/latex": [
       "$$\\frac{2 \\sqrt{2}}{\\sqrt{\\pi}} \\left(- \\frac{\\sqrt{2} \\sqrt{\\pi}}{8} \\operatorname{erf}{\\left (4 \\sqrt{2} \\right )} + \\frac{\\sqrt{2} \\sqrt{\\pi}}{8}\\right)$$"
      ],
      "text/plain": [
       "        ⎛    ___   ___    ⎛    ___⎞     ___   ___⎞\n",
       "    ___ ⎜  ╲╱ 2 ⋅╲╱ π ⋅erf⎝4⋅╲╱ 2 ⎠   ╲╱ 2 ⋅╲╱ π ⎟\n",
       "2⋅╲╱ 2 ⋅⎜- ──────────────────────── + ───────────⎟\n",
       "        ⎝             8                    8     ⎠\n",
       "──────────────────────────────────────────────────\n",
       "                        ___                       \n",
       "                      ╲╱ π                        "
      ]
     },
     "execution_count": 210,
     "metadata": {},
     "output_type": "execute_result"
    }
   ],
   "source": [
    "from sympy import log, exp, sqrt, pi\n",
    "\n",
    "r = symbols('r')\n",
    "\n",
    "normal = 1/(sqrt(2*pi)) * exp(-r**2/2)\n",
    "Integral(normal, r)\n",
    "\n",
    "integrate(normal, (r, 8, oo))"
   ]
  }
 ],
 "metadata": {
  "kernelspec": {
   "display_name": "Python 2",
   "language": "python",
   "name": "python2"
  },
  "language_info": {
   "codemirror_mode": {
    "name": "ipython",
    "version": 2
   },
   "file_extension": ".py",
   "mimetype": "text/x-python",
   "name": "python",
   "nbconvert_exporter": "python",
   "pygments_lexer": "ipython2",
   "version": "2.7.6"
  }
 },
 "nbformat": 4,
 "nbformat_minor": 0
}
